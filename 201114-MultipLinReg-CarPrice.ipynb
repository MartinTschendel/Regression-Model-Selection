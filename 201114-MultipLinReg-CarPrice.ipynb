{
 "cells": [
  {
   "cell_type": "code",
   "execution_count": 7,
   "metadata": {},
   "outputs": [],
   "source": [
    "import numpy as np\n",
    "import matplotlib.pyplot as plt\n",
    "import pandas as pd\n",
    "\n",
    "import seaborn as sns\n",
    "%matplotlib inline\n"
   ]
  },
  {
   "cell_type": "code",
   "execution_count": 8,
   "metadata": {},
   "outputs": [],
   "source": [
    "dataset = pd.read_csv('car_price_data.csv')"
   ]
  },
  {
   "cell_type": "code",
   "execution_count": 9,
   "metadata": {},
   "outputs": [
    {
     "output_type": "stream",
     "name": "stdout",
     "text": [
      "<class 'pandas.core.frame.DataFrame'>\nRangeIndex: 11914 entries, 0 to 11913\nData columns (total 16 columns):\n #   Column             Non-Null Count  Dtype  \n---  ------             --------------  -----  \n 0   Make               11914 non-null  object \n 1   Model              11914 non-null  object \n 2   Year               11914 non-null  int64  \n 3   Engine Fuel Type   11911 non-null  object \n 4   Engine HP          11845 non-null  float64\n 5   Engine Cylinders   11884 non-null  float64\n 6   Transmission Type  11914 non-null  object \n 7   Driven_Wheels      11914 non-null  object \n 8   Number of Doors    11908 non-null  float64\n 9   Market Category    8172 non-null   object \n 10  Vehicle Size       11914 non-null  object \n 11  Vehicle Style      11914 non-null  object \n 12  highway MPG        11914 non-null  int64  \n 13  city mpg           11914 non-null  int64  \n 14  Popularity         11914 non-null  int64  \n 15  MSRP               11914 non-null  int64  \ndtypes: float64(3), int64(5), object(8)\nmemory usage: 1.5+ MB\n"
     ]
    }
   ],
   "source": [
    "#understand the dataset\n",
    "dataset.info()"
   ]
  },
  {
   "cell_type": "code",
   "execution_count": 10,
   "metadata": {},
   "outputs": [
    {
     "output_type": "execute_result",
     "data": {
      "text/plain": [
       "Make                    0\n",
       "Model                   0\n",
       "Year                    0\n",
       "Engine Fuel Type        3\n",
       "Engine HP              69\n",
       "Engine Cylinders       30\n",
       "Transmission Type       0\n",
       "Driven_Wheels           0\n",
       "Number of Doors         6\n",
       "Market Category      3742\n",
       "Vehicle Size            0\n",
       "Vehicle Style           0\n",
       "highway MPG             0\n",
       "city mpg                0\n",
       "Popularity              0\n",
       "MSRP                    0\n",
       "dtype: int64"
      ]
     },
     "metadata": {},
     "execution_count": 10
    }
   ],
   "source": [
    "#checking for missing values\n",
    "dataset.isnull().sum()"
   ]
  },
  {
   "cell_type": "code",
   "execution_count": 11,
   "metadata": {},
   "outputs": [],
   "source": [
    "#column names & string values: lowercasing everything and\n",
    "#replace spaces with underscores\n",
    "dataset.columns = dataset.columns.str.lower().str.replace(' ', '_')\n",
    "string_columns = list(dataset.dtypes[dataset.dtypes == 'object'].index)\n",
    "\n",
    "for col in string_columns:\n",
    "    dataset[col] = dataset[col].str.lower().str.replace(' ', '_')"
   ]
  },
  {
   "cell_type": "code",
   "execution_count": 17,
   "metadata": {},
   "outputs": [],
   "source": [
    "#get rid of missing values\n",
    "from sklearn.impute import SimpleImputer\n",
    "imputer = SimpleImputer(missing_values = np.nan, strategy = 'most_frequent')\n",
    "imputer.fit(dataset[['engine_cylinders']])\n",
    "#transform method will replace nan values with most frequent values\n",
    "dataset['engine_cylinders'] = imputer.transform(dataset[['engine_cylinders']])\n",
    "\n",
    "#replace missing values of Engine HP with mean\n",
    "imputer_01 = SimpleImputer(missing_values = np.nan, strategy = 'mean')\n",
    "imputer_01.fit(dataset[['engine_hp']])\n",
    "#transform method will replace nan values with mean values\n",
    "dataset['engine_hp'] = imputer_01.transform(dataset[['engine_hp']])\n",
    "\n",
    "#replace missing values of Engine Fuel Type with most frequent value\n",
    "imputer.fit(dataset[['engine_fuel_type']])\n",
    "#transform method will replace nan values with most frequent values\n",
    "dataset['engine_fuel_type'] = imputer.transform(dataset[['engine_fuel_type']])\n",
    "\n",
    "#replace missing values of Number of Doors with most frequent value\n",
    "imputer.fit(dataset[['number_of_doors']])\n",
    "#transform method will replace nan values with most frequent values\n",
    "dataset['number_of_doors'] = imputer.transform(dataset[['number_of_doors']])\n",
    "\n",
    "#replace missing values of Market Category with string 'None'\n",
    "imputer_02 = SimpleImputer(missing_values = np.nan, strategy = 'constant')\n",
    "imputer_02.fit(dataset[['market_category']])\n",
    "#transform method will replace nan values with most frequent values\n",
    "dataset['market_category'] = imputer_02.transform(dataset[['market_category']])"
   ]
  },
  {
   "cell_type": "code",
   "execution_count": 18,
   "metadata": {},
   "outputs": [],
   "source": [
    "#choose categorical variables\n",
    "categorical = ['make', 'model', 'engine_fuel_type', 'transmission_type', 'driven_wheels', 'market_category', \n",
    "              'vehicle_size', 'vehicle_style']"
   ]
  },
  {
   "cell_type": "code",
   "execution_count": 19,
   "metadata": {},
   "outputs": [
    {
     "output_type": "execute_result",
     "data": {
      "text/plain": [
       "                         MI\n",
       "model              5.431899\n",
       "make               2.675117\n",
       "market_category    2.225667\n",
       "vehicle_style      1.640058\n",
       "engine_fuel_type   0.936463\n",
       "driven_wheels      0.914208\n",
       "vehicle_size       0.724415\n",
       "transmission_type  0.557783"
      ],
      "text/html": "<div>\n<style scoped>\n    .dataframe tbody tr th:only-of-type {\n        vertical-align: middle;\n    }\n\n    .dataframe tbody tr th {\n        vertical-align: top;\n    }\n\n    .dataframe thead th {\n        text-align: right;\n    }\n</style>\n<table border=\"1\" class=\"dataframe\">\n  <thead>\n    <tr style=\"text-align: right;\">\n      <th></th>\n      <th>MI</th>\n    </tr>\n  </thead>\n  <tbody>\n    <tr>\n      <th>model</th>\n      <td>5.431899</td>\n    </tr>\n    <tr>\n      <th>make</th>\n      <td>2.675117</td>\n    </tr>\n    <tr>\n      <th>market_category</th>\n      <td>2.225667</td>\n    </tr>\n    <tr>\n      <th>vehicle_style</th>\n      <td>1.640058</td>\n    </tr>\n    <tr>\n      <th>engine_fuel_type</th>\n      <td>0.936463</td>\n    </tr>\n    <tr>\n      <th>driven_wheels</th>\n      <td>0.914208</td>\n    </tr>\n    <tr>\n      <th>vehicle_size</th>\n      <td>0.724415</td>\n    </tr>\n    <tr>\n      <th>transmission_type</th>\n      <td>0.557783</td>\n    </tr>\n  </tbody>\n</table>\n</div>"
     },
     "metadata": {},
     "execution_count": 19
    }
   ],
   "source": [
    "#see how strong is the influence of Market Category on Target variable\n",
    "#if not too high, I would replace the missing values with 'most_frequent'\n",
    "#use mutual information\n",
    "from sklearn.metrics import mutual_info_score\n",
    "\n",
    "#calculation of mutual information\n",
    "def calculate_mi(series):\n",
    "    return mutual_info_score(series, dataset.msrp)\n",
    "\n",
    "df_mi = dataset[categorical].apply(calculate_mi)\n",
    "df_mi = df_mi.sort_values(ascending=False).to_frame(name='MI')\n",
    "df_mi"
   ]
  },
  {
   "cell_type": "code",
   "execution_count": 20,
   "metadata": {},
   "outputs": [],
   "source": [
    "#if I replace Market Category with strategy = 'constant', I would get an mi of 2.22\n",
    "#if I replace Market Category with strategy = 'most_frequent', I would get an mi of 2.05\n",
    "#I would take constant, because I cannot guess what is behind the missing values"
   ]
  },
  {
   "cell_type": "code",
   "execution_count": 21,
   "metadata": {},
   "outputs": [
    {
     "output_type": "execute_result",
     "data": {
      "text/plain": [
       "make                 0\n",
       "model                0\n",
       "year                 0\n",
       "engine_fuel_type     0\n",
       "engine_hp            0\n",
       "engine_cylinders     0\n",
       "transmission_type    0\n",
       "driven_wheels        0\n",
       "number_of_doors      0\n",
       "market_category      0\n",
       "vehicle_size         0\n",
       "vehicle_style        0\n",
       "highway_mpg          0\n",
       "city_mpg             0\n",
       "popularity           0\n",
       "msrp                 0\n",
       "dtype: int64"
      ]
     },
     "metadata": {},
     "execution_count": 21
    }
   ],
   "source": [
    "#check if there are any other missing values\n",
    "dataset.isnull().sum()"
   ]
  },
  {
   "cell_type": "code",
   "execution_count": 22,
   "metadata": {},
   "outputs": [],
   "source": [
    "#split dataset in training and test set\n",
    "from sklearn.model_selection import train_test_split\n",
    "df_train, df_test = train_test_split(dataset, test_size = 0.2, random_state = 1)"
   ]
  },
  {
   "cell_type": "code",
   "execution_count": 23,
   "metadata": {},
   "outputs": [],
   "source": [
    "#calculate logarithm of target variable\n",
    "#because distribution of target variable has a 'long tail'\n",
    "#here we already create a matrix array with the target variable\n",
    "y_train = np.log1p(df_train.msrp.values)\n",
    "y_test = np.log1p(df_test.msrp.values)\n",
    "\n",
    "#delete dependent variable\n",
    "del df_train['msrp']\n",
    "del df_test['msrp']"
   ]
  },
  {
   "cell_type": "code",
   "execution_count": 24,
   "metadata": {},
   "outputs": [
    {
     "output_type": "execute_result",
     "data": {
      "text/plain": [
       "<matplotlib.axes._subplots.AxesSubplot at 0x1c449820af0>"
      ]
     },
     "metadata": {},
     "execution_count": 24
    },
    {
     "output_type": "display_data",
     "data": {
      "text/plain": "<Figure size 432x288 with 1 Axes>",
      "image/svg+xml": "<?xml version=\"1.0\" encoding=\"utf-8\" standalone=\"no\"?>\r\n<!DOCTYPE svg PUBLIC \"-//W3C//DTD SVG 1.1//EN\"\r\n  \"http://www.w3.org/Graphics/SVG/1.1/DTD/svg11.dtd\">\r\n<!-- Created with matplotlib (https://matplotlib.org/) -->\r\n<svg height=\"248.518125pt\" version=\"1.1\" viewBox=\"0 0 376.035332 248.518125\" width=\"376.035332pt\" xmlns=\"http://www.w3.org/2000/svg\" xmlns:xlink=\"http://www.w3.org/1999/xlink\">\r\n <defs>\r\n  <style type=\"text/css\">\r\n*{stroke-linecap:butt;stroke-linejoin:round;}\r\n  </style>\r\n </defs>\r\n <g id=\"figure_1\">\r\n  <g id=\"patch_1\">\r\n   <path d=\"M 0 248.518125 \r\nL 376.035332 248.518125 \r\nL 376.035332 0 \r\nL 0 0 \r\nz\r\n\" style=\"fill:none;\"/>\r\n  </g>\r\n  <g id=\"axes_1\">\r\n   <g id=\"patch_2\">\r\n    <path d=\"M 30.103125 224.64 \r\nL 364.903125 224.64 \r\nL 364.903125 7.2 \r\nL 30.103125 7.2 \r\nz\r\n\" style=\"fill:#ffffff;\"/>\r\n   </g>\r\n   <g id=\"patch_3\">\r\n    <path clip-path=\"url(#p6d28236e24)\" d=\"M 59.196947 224.64 \r\nL 64.729194 224.64 \r\nL 64.729194 45.165714 \r\nL 59.196947 45.165714 \r\nz\r\n\" style=\"fill:#1f77b4;opacity:0.4;\"/>\r\n   </g>\r\n   <g id=\"patch_4\">\r\n    <path clip-path=\"url(#p6d28236e24)\" d=\"M 64.729194 224.64 \r\nL 70.261441 224.64 \r\nL 70.261441 207.766349 \r\nL 64.729194 207.766349 \r\nz\r\n\" style=\"fill:#1f77b4;opacity:0.4;\"/>\r\n   </g>\r\n   <g id=\"patch_5\">\r\n    <path clip-path=\"url(#p6d28236e24)\" d=\"M 70.261441 224.64 \r\nL 75.793688 224.64 \r\nL 75.793688 212.368254 \r\nL 70.261441 212.368254 \r\nz\r\n\" style=\"fill:#1f77b4;opacity:0.4;\"/>\r\n   </g>\r\n   <g id=\"patch_6\">\r\n    <path clip-path=\"url(#p6d28236e24)\" d=\"M 75.793688 224.64 \r\nL 81.325935 224.64 \r\nL 81.325935 211.60127 \r\nL 75.793688 211.60127 \r\nz\r\n\" style=\"fill:#1f77b4;opacity:0.4;\"/>\r\n   </g>\r\n   <g id=\"patch_7\">\r\n    <path clip-path=\"url(#p6d28236e24)\" d=\"M 81.325935 224.64 \r\nL 86.858182 224.64 \r\nL 86.858182 218.504127 \r\nL 81.325935 218.504127 \r\nz\r\n\" style=\"fill:#1f77b4;opacity:0.4;\"/>\r\n   </g>\r\n   <g id=\"patch_8\">\r\n    <path clip-path=\"url(#p6d28236e24)\" d=\"M 86.858182 224.64 \r\nL 92.390429 224.64 \r\nL 92.390429 220.805079 \r\nL 86.858182 220.805079 \r\nz\r\n\" style=\"fill:#1f77b4;opacity:0.4;\"/>\r\n   </g>\r\n   <g id=\"patch_9\">\r\n    <path clip-path=\"url(#p6d28236e24)\" d=\"M 92.390429 224.64 \r\nL 97.922677 224.64 \r\nL 97.922677 221.572063 \r\nL 92.390429 221.572063 \r\nz\r\n\" style=\"fill:#1f77b4;opacity:0.4;\"/>\r\n   </g>\r\n   <g id=\"patch_10\">\r\n    <path clip-path=\"url(#p6d28236e24)\" d=\"M 97.922677 224.64 \r\nL 103.454924 224.64 \r\nL 103.454924 220.038095 \r\nL 97.922677 220.038095 \r\nz\r\n\" style=\"fill:#1f77b4;opacity:0.4;\"/>\r\n   </g>\r\n   <g id=\"patch_11\">\r\n    <path clip-path=\"url(#p6d28236e24)\" d=\"M 103.454924 224.64 \r\nL 108.987171 224.64 \r\nL 108.987171 224.64 \r\nL 103.454924 224.64 \r\nz\r\n\" style=\"fill:#1f77b4;opacity:0.4;\"/>\r\n   </g>\r\n   <g id=\"patch_12\">\r\n    <path clip-path=\"url(#p6d28236e24)\" d=\"M 108.987171 224.64 \r\nL 114.519418 224.64 \r\nL 114.519418 223.873016 \r\nL 108.987171 223.873016 \r\nz\r\n\" style=\"fill:#1f77b4;opacity:0.4;\"/>\r\n   </g>\r\n   <g id=\"patch_13\">\r\n    <path clip-path=\"url(#p6d28236e24)\" d=\"M 114.519418 224.64 \r\nL 120.051665 224.64 \r\nL 120.051665 223.106032 \r\nL 114.519418 223.106032 \r\nz\r\n\" style=\"fill:#1f77b4;opacity:0.4;\"/>\r\n   </g>\r\n   <g id=\"patch_14\">\r\n    <path clip-path=\"url(#p6d28236e24)\" d=\"M 120.051665 224.64 \r\nL 125.583912 224.64 \r\nL 125.583912 223.873016 \r\nL 120.051665 223.873016 \r\nz\r\n\" style=\"fill:#1f77b4;opacity:0.4;\"/>\r\n   </g>\r\n   <g id=\"patch_15\">\r\n    <path clip-path=\"url(#p6d28236e24)\" d=\"M 125.583912 224.64 \r\nL 131.116159 224.64 \r\nL 131.116159 223.873016 \r\nL 125.583912 223.873016 \r\nz\r\n\" style=\"fill:#1f77b4;opacity:0.4;\"/>\r\n   </g>\r\n   <g id=\"patch_16\">\r\n    <path clip-path=\"url(#p6d28236e24)\" d=\"M 131.116159 224.64 \r\nL 136.648407 224.64 \r\nL 136.648407 217.737143 \r\nL 131.116159 217.737143 \r\nz\r\n\" style=\"fill:#1f77b4;opacity:0.4;\"/>\r\n   </g>\r\n   <g id=\"patch_17\">\r\n    <path clip-path=\"url(#p6d28236e24)\" d=\"M 136.648407 224.64 \r\nL 142.180654 224.64 \r\nL 142.180654 199.329524 \r\nL 136.648407 199.329524 \r\nz\r\n\" style=\"fill:#1f77b4;opacity:0.4;\"/>\r\n   </g>\r\n   <g id=\"patch_18\">\r\n    <path clip-path=\"url(#p6d28236e24)\" d=\"M 142.180654 224.64 \r\nL 147.712901 224.64 \r\nL 147.712901 173.252063 \r\nL 142.180654 173.252063 \r\nz\r\n\" style=\"fill:#1f77b4;opacity:0.4;\"/>\r\n   </g>\r\n   <g id=\"patch_19\">\r\n    <path clip-path=\"url(#p6d28236e24)\" d=\"M 147.712901 224.64 \r\nL 153.245148 224.64 \r\nL 153.245148 157.912381 \r\nL 147.712901 157.912381 \r\nz\r\n\" style=\"fill:#1f77b4;opacity:0.4;\"/>\r\n   </g>\r\n   <g id=\"patch_20\">\r\n    <path clip-path=\"url(#p6d28236e24)\" d=\"M 153.245148 224.64 \r\nL 158.777395 224.64 \r\nL 158.777395 99.621587 \r\nL 153.245148 99.621587 \r\nz\r\n\" style=\"fill:#1f77b4;opacity:0.4;\"/>\r\n   </g>\r\n   <g id=\"patch_21\">\r\n    <path clip-path=\"url(#p6d28236e24)\" d=\"M 158.777395 224.64 \r\nL 164.309642 224.64 \r\nL 164.309642 58.204444 \r\nL 158.777395 58.204444 \r\nz\r\n\" style=\"fill:#1f77b4;opacity:0.4;\"/>\r\n   </g>\r\n   <g id=\"patch_22\">\r\n    <path clip-path=\"url(#p6d28236e24)\" d=\"M 164.309642 224.64 \r\nL 169.841889 224.64 \r\nL 169.841889 17.554286 \r\nL 164.309642 17.554286 \r\nz\r\n\" style=\"fill:#1f77b4;opacity:0.4;\"/>\r\n   </g>\r\n   <g id=\"patch_23\">\r\n    <path clip-path=\"url(#p6d28236e24)\" d=\"M 169.841889 224.64 \r\nL 175.374136 224.64 \r\nL 175.374136 18.32127 \r\nL 169.841889 18.32127 \r\nz\r\n\" style=\"fill:#1f77b4;opacity:0.4;\"/>\r\n   </g>\r\n   <g id=\"patch_24\">\r\n    <path clip-path=\"url(#p6d28236e24)\" d=\"M 175.374136 224.64 \r\nL 180.906384 224.64 \r\nL 180.906384 45.165714 \r\nL 175.374136 45.165714 \r\nz\r\n\" style=\"fill:#1f77b4;opacity:0.4;\"/>\r\n   </g>\r\n   <g id=\"patch_25\">\r\n    <path clip-path=\"url(#p6d28236e24)\" d=\"M 180.906384 224.64 \r\nL 186.438631 224.64 \r\nL 186.438631 70.47619 \r\nL 180.906384 70.47619 \r\nz\r\n\" style=\"fill:#1f77b4;opacity:0.4;\"/>\r\n   </g>\r\n   <g id=\"patch_26\">\r\n    <path clip-path=\"url(#p6d28236e24)\" d=\"M 186.438631 224.64 \r\nL 191.970878 224.64 \r\nL 191.970878 122.631111 \r\nL 186.438631 122.631111 \r\nz\r\n\" style=\"fill:#1f77b4;opacity:0.4;\"/>\r\n   </g>\r\n   <g id=\"patch_27\">\r\n    <path clip-path=\"url(#p6d28236e24)\" d=\"M 191.970878 224.64 \r\nL 197.503125 224.64 \r\nL 197.503125 159.446349 \r\nL 191.970878 159.446349 \r\nz\r\n\" style=\"fill:#1f77b4;opacity:0.4;\"/>\r\n   </g>\r\n   <g id=\"patch_28\">\r\n    <path clip-path=\"url(#p6d28236e24)\" d=\"M 197.503125 224.64 \r\nL 203.035372 224.64 \r\nL 203.035372 171.718095 \r\nL 197.503125 171.718095 \r\nz\r\n\" style=\"fill:#1f77b4;opacity:0.4;\"/>\r\n   </g>\r\n   <g id=\"patch_29\">\r\n    <path clip-path=\"url(#p6d28236e24)\" d=\"M 203.035372 224.64 \r\nL 208.567619 224.64 \r\nL 208.567619 187.057778 \r\nL 203.035372 187.057778 \r\nz\r\n\" style=\"fill:#1f77b4;opacity:0.4;\"/>\r\n   </g>\r\n   <g id=\"patch_30\">\r\n    <path clip-path=\"url(#p6d28236e24)\" d=\"M 208.567619 224.64 \r\nL 214.099866 224.64 \r\nL 214.099866 193.193651 \r\nL 208.567619 193.193651 \r\nz\r\n\" style=\"fill:#1f77b4;opacity:0.4;\"/>\r\n   </g>\r\n   <g id=\"patch_31\">\r\n    <path clip-path=\"url(#p6d28236e24)\" d=\"M 214.099866 224.64 \r\nL 219.632114 224.64 \r\nL 219.632114 203.164444 \r\nL 214.099866 203.164444 \r\nz\r\n\" style=\"fill:#1f77b4;opacity:0.4;\"/>\r\n   </g>\r\n   <g id=\"patch_32\">\r\n    <path clip-path=\"url(#p6d28236e24)\" d=\"M 219.632114 224.64 \r\nL 225.164361 224.64 \r\nL 225.164361 213.135238 \r\nL 219.632114 213.135238 \r\nz\r\n\" style=\"fill:#1f77b4;opacity:0.4;\"/>\r\n   </g>\r\n   <g id=\"patch_33\">\r\n    <path clip-path=\"url(#p6d28236e24)\" d=\"M 225.164361 224.64 \r\nL 230.696608 224.64 \r\nL 230.696608 216.203175 \r\nL 225.164361 216.203175 \r\nz\r\n\" style=\"fill:#1f77b4;opacity:0.4;\"/>\r\n   </g>\r\n   <g id=\"patch_34\">\r\n    <path clip-path=\"url(#p6d28236e24)\" d=\"M 230.696608 224.64 \r\nL 236.228855 224.64 \r\nL 236.228855 216.203175 \r\nL 230.696608 216.203175 \r\nz\r\n\" style=\"fill:#1f77b4;opacity:0.4;\"/>\r\n   </g>\r\n   <g id=\"patch_35\">\r\n    <path clip-path=\"url(#p6d28236e24)\" d=\"M 236.228855 224.64 \r\nL 241.761102 224.64 \r\nL 241.761102 219.271111 \r\nL 236.228855 219.271111 \r\nz\r\n\" style=\"fill:#1f77b4;opacity:0.4;\"/>\r\n   </g>\r\n   <g id=\"patch_36\">\r\n    <path clip-path=\"url(#p6d28236e24)\" d=\"M 241.761102 224.64 \r\nL 247.293349 224.64 \r\nL 247.293349 216.970159 \r\nL 241.761102 216.970159 \r\nz\r\n\" style=\"fill:#1f77b4;opacity:0.4;\"/>\r\n   </g>\r\n   <g id=\"patch_37\">\r\n    <path clip-path=\"url(#p6d28236e24)\" d=\"M 247.293349 224.64 \r\nL 252.825596 224.64 \r\nL 252.825596 208.533333 \r\nL 247.293349 208.533333 \r\nz\r\n\" style=\"fill:#1f77b4;opacity:0.4;\"/>\r\n   </g>\r\n   <g id=\"patch_38\">\r\n    <path clip-path=\"url(#p6d28236e24)\" d=\"M 252.825596 224.64 \r\nL 258.357843 224.64 \r\nL 258.357843 216.970159 \r\nL 252.825596 216.970159 \r\nz\r\n\" style=\"fill:#1f77b4;opacity:0.4;\"/>\r\n   </g>\r\n   <g id=\"patch_39\">\r\n    <path clip-path=\"url(#p6d28236e24)\" d=\"M 258.357843 224.64 \r\nL 263.890091 224.64 \r\nL 263.890091 218.504127 \r\nL 258.357843 218.504127 \r\nz\r\n\" style=\"fill:#1f77b4;opacity:0.4;\"/>\r\n   </g>\r\n   <g id=\"patch_40\">\r\n    <path clip-path=\"url(#p6d28236e24)\" d=\"M 263.890091 224.64 \r\nL 269.422338 224.64 \r\nL 269.422338 217.737143 \r\nL 263.890091 217.737143 \r\nz\r\n\" style=\"fill:#1f77b4;opacity:0.4;\"/>\r\n   </g>\r\n   <g id=\"patch_41\">\r\n    <path clip-path=\"url(#p6d28236e24)\" d=\"M 269.422338 224.64 \r\nL 274.954585 224.64 \r\nL 274.954585 223.106032 \r\nL 269.422338 223.106032 \r\nz\r\n\" style=\"fill:#1f77b4;opacity:0.4;\"/>\r\n   </g>\r\n   <g id=\"patch_42\">\r\n    <path clip-path=\"url(#p6d28236e24)\" d=\"M 274.954585 224.64 \r\nL 280.486832 224.64 \r\nL 280.486832 223.106032 \r\nL 274.954585 223.106032 \r\nz\r\n\" style=\"fill:#1f77b4;opacity:0.4;\"/>\r\n   </g>\r\n   <g id=\"patch_43\">\r\n    <path clip-path=\"url(#p6d28236e24)\" d=\"M 280.486832 224.64 \r\nL 286.019079 224.64 \r\nL 286.019079 222.339048 \r\nL 280.486832 222.339048 \r\nz\r\n\" style=\"fill:#1f77b4;opacity:0.4;\"/>\r\n   </g>\r\n   <g id=\"patch_44\">\r\n    <path clip-path=\"url(#p6d28236e24)\" d=\"M 286.019079 224.64 \r\nL 291.551326 224.64 \r\nL 291.551326 223.873016 \r\nL 286.019079 223.873016 \r\nz\r\n\" style=\"fill:#1f77b4;opacity:0.4;\"/>\r\n   </g>\r\n   <g id=\"patch_45\">\r\n    <path clip-path=\"url(#p6d28236e24)\" d=\"M 291.551326 224.64 \r\nL 297.083573 224.64 \r\nL 297.083573 224.64 \r\nL 291.551326 224.64 \r\nz\r\n\" style=\"fill:#1f77b4;opacity:0.4;\"/>\r\n   </g>\r\n   <g id=\"patch_46\">\r\n    <path clip-path=\"url(#p6d28236e24)\" d=\"M 297.083573 224.64 \r\nL 302.615821 224.64 \r\nL 302.615821 224.64 \r\nL 297.083573 224.64 \r\nz\r\n\" style=\"fill:#1f77b4;opacity:0.4;\"/>\r\n   </g>\r\n   <g id=\"patch_47\">\r\n    <path clip-path=\"url(#p6d28236e24)\" d=\"M 302.615821 224.64 \r\nL 308.148068 224.64 \r\nL 308.148068 224.64 \r\nL 302.615821 224.64 \r\nz\r\n\" style=\"fill:#1f77b4;opacity:0.4;\"/>\r\n   </g>\r\n   <g id=\"patch_48\">\r\n    <path clip-path=\"url(#p6d28236e24)\" d=\"M 308.148068 224.64 \r\nL 313.680315 224.64 \r\nL 313.680315 224.64 \r\nL 308.148068 224.64 \r\nz\r\n\" style=\"fill:#1f77b4;opacity:0.4;\"/>\r\n   </g>\r\n   <g id=\"patch_49\">\r\n    <path clip-path=\"url(#p6d28236e24)\" d=\"M 313.680315 224.64 \r\nL 319.212562 224.64 \r\nL 319.212562 224.64 \r\nL 313.680315 224.64 \r\nz\r\n\" style=\"fill:#1f77b4;opacity:0.4;\"/>\r\n   </g>\r\n   <g id=\"patch_50\">\r\n    <path clip-path=\"url(#p6d28236e24)\" d=\"M 319.212562 224.64 \r\nL 324.744809 224.64 \r\nL 324.744809 224.64 \r\nL 319.212562 224.64 \r\nz\r\n\" style=\"fill:#1f77b4;opacity:0.4;\"/>\r\n   </g>\r\n   <g id=\"patch_51\">\r\n    <path clip-path=\"url(#p6d28236e24)\" d=\"M 324.744809 224.64 \r\nL 330.277056 224.64 \r\nL 330.277056 224.64 \r\nL 324.744809 224.64 \r\nz\r\n\" style=\"fill:#1f77b4;opacity:0.4;\"/>\r\n   </g>\r\n   <g id=\"patch_52\">\r\n    <path clip-path=\"url(#p6d28236e24)\" d=\"M 330.277056 224.64 \r\nL 335.809303 224.64 \r\nL 335.809303 223.873016 \r\nL 330.277056 223.873016 \r\nz\r\n\" style=\"fill:#1f77b4;opacity:0.4;\"/>\r\n   </g>\r\n   <g id=\"matplotlib.axis_1\">\r\n    <g id=\"xtick_1\">\r\n     <g id=\"line2d_1\">\r\n      <defs>\r\n       <path d=\"M 0 0 \r\nL 0 3.5 \r\n\" id=\"mcce3354ec6\" style=\"stroke:#000000;stroke-width:0.8;\"/>\r\n      </defs>\r\n      <g>\r\n       <use style=\"stroke:#000000;stroke-width:0.8;\" x=\"34.544866\" xlink:href=\"#mcce3354ec6\" y=\"224.64\"/>\r\n      </g>\r\n     </g>\r\n     <g id=\"text_1\">\r\n      <!-- 7 -->\r\n      <defs>\r\n       <path d=\"M 8.203125 72.90625 \r\nL 55.078125 72.90625 \r\nL 55.078125 68.703125 \r\nL 28.609375 0 \r\nL 18.3125 0 \r\nL 43.21875 64.59375 \r\nL 8.203125 64.59375 \r\nz\r\n\" id=\"DejaVuSans-55\"/>\r\n      </defs>\r\n      <g transform=\"translate(31.363616 239.238438)scale(0.1 -0.1)\">\r\n       <use xlink:href=\"#DejaVuSans-55\"/>\r\n      </g>\r\n     </g>\r\n    </g>\r\n    <g id=\"xtick_2\">\r\n     <g id=\"line2d_2\">\r\n      <g>\r\n       <use style=\"stroke:#000000;stroke-width:0.8;\" x=\"75.535862\" xlink:href=\"#mcce3354ec6\" y=\"224.64\"/>\r\n      </g>\r\n     </g>\r\n     <g id=\"text_2\">\r\n      <!-- 8 -->\r\n      <defs>\r\n       <path d=\"M 31.78125 34.625 \r\nQ 24.75 34.625 20.71875 30.859375 \r\nQ 16.703125 27.09375 16.703125 20.515625 \r\nQ 16.703125 13.921875 20.71875 10.15625 \r\nQ 24.75 6.390625 31.78125 6.390625 \r\nQ 38.8125 6.390625 42.859375 10.171875 \r\nQ 46.921875 13.96875 46.921875 20.515625 \r\nQ 46.921875 27.09375 42.890625 30.859375 \r\nQ 38.875 34.625 31.78125 34.625 \r\nz\r\nM 21.921875 38.8125 \r\nQ 15.578125 40.375 12.03125 44.71875 \r\nQ 8.5 49.078125 8.5 55.328125 \r\nQ 8.5 64.0625 14.71875 69.140625 \r\nQ 20.953125 74.21875 31.78125 74.21875 \r\nQ 42.671875 74.21875 48.875 69.140625 \r\nQ 55.078125 64.0625 55.078125 55.328125 \r\nQ 55.078125 49.078125 51.53125 44.71875 \r\nQ 48 40.375 41.703125 38.8125 \r\nQ 48.828125 37.15625 52.796875 32.3125 \r\nQ 56.78125 27.484375 56.78125 20.515625 \r\nQ 56.78125 9.90625 50.3125 4.234375 \r\nQ 43.84375 -1.421875 31.78125 -1.421875 \r\nQ 19.734375 -1.421875 13.25 4.234375 \r\nQ 6.78125 9.90625 6.78125 20.515625 \r\nQ 6.78125 27.484375 10.78125 32.3125 \r\nQ 14.796875 37.15625 21.921875 38.8125 \r\nz\r\nM 18.3125 54.390625 \r\nQ 18.3125 48.734375 21.84375 45.5625 \r\nQ 25.390625 42.390625 31.78125 42.390625 \r\nQ 38.140625 42.390625 41.71875 45.5625 \r\nQ 45.3125 48.734375 45.3125 54.390625 \r\nQ 45.3125 60.0625 41.71875 63.234375 \r\nQ 38.140625 66.40625 31.78125 66.40625 \r\nQ 25.390625 66.40625 21.84375 63.234375 \r\nQ 18.3125 60.0625 18.3125 54.390625 \r\nz\r\n\" id=\"DejaVuSans-56\"/>\r\n      </defs>\r\n      <g transform=\"translate(72.354612 239.238438)scale(0.1 -0.1)\">\r\n       <use xlink:href=\"#DejaVuSans-56\"/>\r\n      </g>\r\n     </g>\r\n    </g>\r\n    <g id=\"xtick_3\">\r\n     <g id=\"line2d_3\">\r\n      <g>\r\n       <use style=\"stroke:#000000;stroke-width:0.8;\" x=\"116.526858\" xlink:href=\"#mcce3354ec6\" y=\"224.64\"/>\r\n      </g>\r\n     </g>\r\n     <g id=\"text_3\">\r\n      <!-- 9 -->\r\n      <defs>\r\n       <path d=\"M 10.984375 1.515625 \r\nL 10.984375 10.5 \r\nQ 14.703125 8.734375 18.5 7.8125 \r\nQ 22.3125 6.890625 25.984375 6.890625 \r\nQ 35.75 6.890625 40.890625 13.453125 \r\nQ 46.046875 20.015625 46.78125 33.40625 \r\nQ 43.953125 29.203125 39.59375 26.953125 \r\nQ 35.25 24.703125 29.984375 24.703125 \r\nQ 19.046875 24.703125 12.671875 31.3125 \r\nQ 6.296875 37.9375 6.296875 49.421875 \r\nQ 6.296875 60.640625 12.9375 67.421875 \r\nQ 19.578125 74.21875 30.609375 74.21875 \r\nQ 43.265625 74.21875 49.921875 64.515625 \r\nQ 56.59375 54.828125 56.59375 36.375 \r\nQ 56.59375 19.140625 48.40625 8.859375 \r\nQ 40.234375 -1.421875 26.421875 -1.421875 \r\nQ 22.703125 -1.421875 18.890625 -0.6875 \r\nQ 15.09375 0.046875 10.984375 1.515625 \r\nz\r\nM 30.609375 32.421875 \r\nQ 37.25 32.421875 41.125 36.953125 \r\nQ 45.015625 41.5 45.015625 49.421875 \r\nQ 45.015625 57.28125 41.125 61.84375 \r\nQ 37.25 66.40625 30.609375 66.40625 \r\nQ 23.96875 66.40625 20.09375 61.84375 \r\nQ 16.21875 57.28125 16.21875 49.421875 \r\nQ 16.21875 41.5 20.09375 36.953125 \r\nQ 23.96875 32.421875 30.609375 32.421875 \r\nz\r\n\" id=\"DejaVuSans-57\"/>\r\n      </defs>\r\n      <g transform=\"translate(113.345608 239.238438)scale(0.1 -0.1)\">\r\n       <use xlink:href=\"#DejaVuSans-57\"/>\r\n      </g>\r\n     </g>\r\n    </g>\r\n    <g id=\"xtick_4\">\r\n     <g id=\"line2d_4\">\r\n      <g>\r\n       <use style=\"stroke:#000000;stroke-width:0.8;\" x=\"157.517853\" xlink:href=\"#mcce3354ec6\" y=\"224.64\"/>\r\n      </g>\r\n     </g>\r\n     <g id=\"text_4\">\r\n      <!-- 10 -->\r\n      <defs>\r\n       <path d=\"M 12.40625 8.296875 \r\nL 28.515625 8.296875 \r\nL 28.515625 63.921875 \r\nL 10.984375 60.40625 \r\nL 10.984375 69.390625 \r\nL 28.421875 72.90625 \r\nL 38.28125 72.90625 \r\nL 38.28125 8.296875 \r\nL 54.390625 8.296875 \r\nL 54.390625 0 \r\nL 12.40625 0 \r\nz\r\n\" id=\"DejaVuSans-49\"/>\r\n       <path d=\"M 31.78125 66.40625 \r\nQ 24.171875 66.40625 20.328125 58.90625 \r\nQ 16.5 51.421875 16.5 36.375 \r\nQ 16.5 21.390625 20.328125 13.890625 \r\nQ 24.171875 6.390625 31.78125 6.390625 \r\nQ 39.453125 6.390625 43.28125 13.890625 \r\nQ 47.125 21.390625 47.125 36.375 \r\nQ 47.125 51.421875 43.28125 58.90625 \r\nQ 39.453125 66.40625 31.78125 66.40625 \r\nz\r\nM 31.78125 74.21875 \r\nQ 44.046875 74.21875 50.515625 64.515625 \r\nQ 56.984375 54.828125 56.984375 36.375 \r\nQ 56.984375 17.96875 50.515625 8.265625 \r\nQ 44.046875 -1.421875 31.78125 -1.421875 \r\nQ 19.53125 -1.421875 13.0625 8.265625 \r\nQ 6.59375 17.96875 6.59375 36.375 \r\nQ 6.59375 54.828125 13.0625 64.515625 \r\nQ 19.53125 74.21875 31.78125 74.21875 \r\nz\r\n\" id=\"DejaVuSans-48\"/>\r\n      </defs>\r\n      <g transform=\"translate(151.155353 239.238438)scale(0.1 -0.1)\">\r\n       <use xlink:href=\"#DejaVuSans-49\"/>\r\n       <use x=\"63.623047\" xlink:href=\"#DejaVuSans-48\"/>\r\n      </g>\r\n     </g>\r\n    </g>\r\n    <g id=\"xtick_5\">\r\n     <g id=\"line2d_5\">\r\n      <g>\r\n       <use style=\"stroke:#000000;stroke-width:0.8;\" x=\"198.508849\" xlink:href=\"#mcce3354ec6\" y=\"224.64\"/>\r\n      </g>\r\n     </g>\r\n     <g id=\"text_5\">\r\n      <!-- 11 -->\r\n      <g transform=\"translate(192.146349 239.238438)scale(0.1 -0.1)\">\r\n       <use xlink:href=\"#DejaVuSans-49\"/>\r\n       <use x=\"63.623047\" xlink:href=\"#DejaVuSans-49\"/>\r\n      </g>\r\n     </g>\r\n    </g>\r\n    <g id=\"xtick_6\">\r\n     <g id=\"line2d_6\">\r\n      <g>\r\n       <use style=\"stroke:#000000;stroke-width:0.8;\" x=\"239.499845\" xlink:href=\"#mcce3354ec6\" y=\"224.64\"/>\r\n      </g>\r\n     </g>\r\n     <g id=\"text_6\">\r\n      <!-- 12 -->\r\n      <defs>\r\n       <path d=\"M 19.1875 8.296875 \r\nL 53.609375 8.296875 \r\nL 53.609375 0 \r\nL 7.328125 0 \r\nL 7.328125 8.296875 \r\nQ 12.9375 14.109375 22.625 23.890625 \r\nQ 32.328125 33.6875 34.8125 36.53125 \r\nQ 39.546875 41.84375 41.421875 45.53125 \r\nQ 43.3125 49.21875 43.3125 52.78125 \r\nQ 43.3125 58.59375 39.234375 62.25 \r\nQ 35.15625 65.921875 28.609375 65.921875 \r\nQ 23.96875 65.921875 18.8125 64.3125 \r\nQ 13.671875 62.703125 7.8125 59.421875 \r\nL 7.8125 69.390625 \r\nQ 13.765625 71.78125 18.9375 73 \r\nQ 24.125 74.21875 28.421875 74.21875 \r\nQ 39.75 74.21875 46.484375 68.546875 \r\nQ 53.21875 62.890625 53.21875 53.421875 \r\nQ 53.21875 48.921875 51.53125 44.890625 \r\nQ 49.859375 40.875 45.40625 35.40625 \r\nQ 44.1875 33.984375 37.640625 27.21875 \r\nQ 31.109375 20.453125 19.1875 8.296875 \r\nz\r\n\" id=\"DejaVuSans-50\"/>\r\n      </defs>\r\n      <g transform=\"translate(233.137345 239.238438)scale(0.1 -0.1)\">\r\n       <use xlink:href=\"#DejaVuSans-49\"/>\r\n       <use x=\"63.623047\" xlink:href=\"#DejaVuSans-50\"/>\r\n      </g>\r\n     </g>\r\n    </g>\r\n    <g id=\"xtick_7\">\r\n     <g id=\"line2d_7\">\r\n      <g>\r\n       <use style=\"stroke:#000000;stroke-width:0.8;\" x=\"280.49084\" xlink:href=\"#mcce3354ec6\" y=\"224.64\"/>\r\n      </g>\r\n     </g>\r\n     <g id=\"text_7\">\r\n      <!-- 13 -->\r\n      <defs>\r\n       <path d=\"M 40.578125 39.3125 \r\nQ 47.65625 37.796875 51.625 33 \r\nQ 55.609375 28.21875 55.609375 21.1875 \r\nQ 55.609375 10.40625 48.1875 4.484375 \r\nQ 40.765625 -1.421875 27.09375 -1.421875 \r\nQ 22.515625 -1.421875 17.65625 -0.515625 \r\nQ 12.796875 0.390625 7.625 2.203125 \r\nL 7.625 11.71875 \r\nQ 11.71875 9.328125 16.59375 8.109375 \r\nQ 21.484375 6.890625 26.8125 6.890625 \r\nQ 36.078125 6.890625 40.9375 10.546875 \r\nQ 45.796875 14.203125 45.796875 21.1875 \r\nQ 45.796875 27.640625 41.28125 31.265625 \r\nQ 36.765625 34.90625 28.71875 34.90625 \r\nL 20.21875 34.90625 \r\nL 20.21875 43.015625 \r\nL 29.109375 43.015625 \r\nQ 36.375 43.015625 40.234375 45.921875 \r\nQ 44.09375 48.828125 44.09375 54.296875 \r\nQ 44.09375 59.90625 40.109375 62.90625 \r\nQ 36.140625 65.921875 28.71875 65.921875 \r\nQ 24.65625 65.921875 20.015625 65.03125 \r\nQ 15.375 64.15625 9.8125 62.3125 \r\nL 9.8125 71.09375 \r\nQ 15.4375 72.65625 20.34375 73.4375 \r\nQ 25.25 74.21875 29.59375 74.21875 \r\nQ 40.828125 74.21875 47.359375 69.109375 \r\nQ 53.90625 64.015625 53.90625 55.328125 \r\nQ 53.90625 49.265625 50.4375 45.09375 \r\nQ 46.96875 40.921875 40.578125 39.3125 \r\nz\r\n\" id=\"DejaVuSans-51\"/>\r\n      </defs>\r\n      <g transform=\"translate(274.12834 239.238438)scale(0.1 -0.1)\">\r\n       <use xlink:href=\"#DejaVuSans-49\"/>\r\n       <use x=\"63.623047\" xlink:href=\"#DejaVuSans-51\"/>\r\n      </g>\r\n     </g>\r\n    </g>\r\n    <g id=\"xtick_8\">\r\n     <g id=\"line2d_8\">\r\n      <g>\r\n       <use style=\"stroke:#000000;stroke-width:0.8;\" x=\"321.481836\" xlink:href=\"#mcce3354ec6\" y=\"224.64\"/>\r\n      </g>\r\n     </g>\r\n     <g id=\"text_8\">\r\n      <!-- 14 -->\r\n      <defs>\r\n       <path d=\"M 37.796875 64.3125 \r\nL 12.890625 25.390625 \r\nL 37.796875 25.390625 \r\nz\r\nM 35.203125 72.90625 \r\nL 47.609375 72.90625 \r\nL 47.609375 25.390625 \r\nL 58.015625 25.390625 \r\nL 58.015625 17.1875 \r\nL 47.609375 17.1875 \r\nL 47.609375 0 \r\nL 37.796875 0 \r\nL 37.796875 17.1875 \r\nL 4.890625 17.1875 \r\nL 4.890625 26.703125 \r\nz\r\n\" id=\"DejaVuSans-52\"/>\r\n      </defs>\r\n      <g transform=\"translate(315.119336 239.238438)scale(0.1 -0.1)\">\r\n       <use xlink:href=\"#DejaVuSans-49\"/>\r\n       <use x=\"63.623047\" xlink:href=\"#DejaVuSans-52\"/>\r\n      </g>\r\n     </g>\r\n    </g>\r\n    <g id=\"xtick_9\">\r\n     <g id=\"line2d_9\">\r\n      <g>\r\n       <use style=\"stroke:#000000;stroke-width:0.8;\" x=\"362.472832\" xlink:href=\"#mcce3354ec6\" y=\"224.64\"/>\r\n      </g>\r\n     </g>\r\n     <g id=\"text_9\">\r\n      <!-- 15 -->\r\n      <defs>\r\n       <path d=\"M 10.796875 72.90625 \r\nL 49.515625 72.90625 \r\nL 49.515625 64.59375 \r\nL 19.828125 64.59375 \r\nL 19.828125 46.734375 \r\nQ 21.96875 47.46875 24.109375 47.828125 \r\nQ 26.265625 48.1875 28.421875 48.1875 \r\nQ 40.625 48.1875 47.75 41.5 \r\nQ 54.890625 34.8125 54.890625 23.390625 \r\nQ 54.890625 11.625 47.5625 5.09375 \r\nQ 40.234375 -1.421875 26.90625 -1.421875 \r\nQ 22.3125 -1.421875 17.546875 -0.640625 \r\nQ 12.796875 0.140625 7.71875 1.703125 \r\nL 7.71875 11.625 \r\nQ 12.109375 9.234375 16.796875 8.0625 \r\nQ 21.484375 6.890625 26.703125 6.890625 \r\nQ 35.15625 6.890625 40.078125 11.328125 \r\nQ 45.015625 15.765625 45.015625 23.390625 \r\nQ 45.015625 31 40.078125 35.4375 \r\nQ 35.15625 39.890625 26.703125 39.890625 \r\nQ 22.75 39.890625 18.8125 39.015625 \r\nQ 14.890625 38.140625 10.796875 36.28125 \r\nz\r\n\" id=\"DejaVuSans-53\"/>\r\n      </defs>\r\n      <g transform=\"translate(356.110332 239.238438)scale(0.1 -0.1)\">\r\n       <use xlink:href=\"#DejaVuSans-49\"/>\r\n       <use x=\"63.623047\" xlink:href=\"#DejaVuSans-53\"/>\r\n      </g>\r\n     </g>\r\n    </g>\r\n   </g>\r\n   <g id=\"matplotlib.axis_2\">\r\n    <g id=\"ytick_1\">\r\n     <g id=\"line2d_10\">\r\n      <defs>\r\n       <path d=\"M 0 0 \r\nL -3.5 0 \r\n\" id=\"m37fd0d876c\" style=\"stroke:#000000;stroke-width:0.8;\"/>\r\n      </defs>\r\n      <g>\r\n       <use style=\"stroke:#000000;stroke-width:0.8;\" x=\"30.103125\" xlink:href=\"#m37fd0d876c\" y=\"224.64\"/>\r\n      </g>\r\n     </g>\r\n     <g id=\"text_10\">\r\n      <!-- 0.0 -->\r\n      <defs>\r\n       <path d=\"M 10.6875 12.40625 \r\nL 21 12.40625 \r\nL 21 0 \r\nL 10.6875 0 \r\nz\r\n\" id=\"DejaVuSans-46\"/>\r\n      </defs>\r\n      <g transform=\"translate(7.2 228.439219)scale(0.1 -0.1)\">\r\n       <use xlink:href=\"#DejaVuSans-48\"/>\r\n       <use x=\"63.623047\" xlink:href=\"#DejaVuSans-46\"/>\r\n       <use x=\"95.410156\" xlink:href=\"#DejaVuSans-48\"/>\r\n      </g>\r\n     </g>\r\n    </g>\r\n    <g id=\"ytick_2\">\r\n     <g id=\"line2d_11\">\r\n      <g>\r\n       <use style=\"stroke:#000000;stroke-width:0.8;\" x=\"30.103125\" xlink:href=\"#m37fd0d876c\" y=\"199.972592\"/>\r\n      </g>\r\n     </g>\r\n     <g id=\"text_11\">\r\n      <!-- 0.1 -->\r\n      <g transform=\"translate(7.2 203.77181)scale(0.1 -0.1)\">\r\n       <use xlink:href=\"#DejaVuSans-48\"/>\r\n       <use x=\"63.623047\" xlink:href=\"#DejaVuSans-46\"/>\r\n       <use x=\"95.410156\" xlink:href=\"#DejaVuSans-49\"/>\r\n      </g>\r\n     </g>\r\n    </g>\r\n    <g id=\"ytick_3\">\r\n     <g id=\"line2d_12\">\r\n      <g>\r\n       <use style=\"stroke:#000000;stroke-width:0.8;\" x=\"30.103125\" xlink:href=\"#m37fd0d876c\" y=\"175.305183\"/>\r\n      </g>\r\n     </g>\r\n     <g id=\"text_12\">\r\n      <!-- 0.2 -->\r\n      <g transform=\"translate(7.2 179.104402)scale(0.1 -0.1)\">\r\n       <use xlink:href=\"#DejaVuSans-48\"/>\r\n       <use x=\"63.623047\" xlink:href=\"#DejaVuSans-46\"/>\r\n       <use x=\"95.410156\" xlink:href=\"#DejaVuSans-50\"/>\r\n      </g>\r\n     </g>\r\n    </g>\r\n    <g id=\"ytick_4\">\r\n     <g id=\"line2d_13\">\r\n      <g>\r\n       <use style=\"stroke:#000000;stroke-width:0.8;\" x=\"30.103125\" xlink:href=\"#m37fd0d876c\" y=\"150.637775\"/>\r\n      </g>\r\n     </g>\r\n     <g id=\"text_13\">\r\n      <!-- 0.3 -->\r\n      <g transform=\"translate(7.2 154.436994)scale(0.1 -0.1)\">\r\n       <use xlink:href=\"#DejaVuSans-48\"/>\r\n       <use x=\"63.623047\" xlink:href=\"#DejaVuSans-46\"/>\r\n       <use x=\"95.410156\" xlink:href=\"#DejaVuSans-51\"/>\r\n      </g>\r\n     </g>\r\n    </g>\r\n    <g id=\"ytick_5\">\r\n     <g id=\"line2d_14\">\r\n      <g>\r\n       <use style=\"stroke:#000000;stroke-width:0.8;\" x=\"30.103125\" xlink:href=\"#m37fd0d876c\" y=\"125.970367\"/>\r\n      </g>\r\n     </g>\r\n     <g id=\"text_14\">\r\n      <!-- 0.4 -->\r\n      <g transform=\"translate(7.2 129.769585)scale(0.1 -0.1)\">\r\n       <use xlink:href=\"#DejaVuSans-48\"/>\r\n       <use x=\"63.623047\" xlink:href=\"#DejaVuSans-46\"/>\r\n       <use x=\"95.410156\" xlink:href=\"#DejaVuSans-52\"/>\r\n      </g>\r\n     </g>\r\n    </g>\r\n    <g id=\"ytick_6\">\r\n     <g id=\"line2d_15\">\r\n      <g>\r\n       <use style=\"stroke:#000000;stroke-width:0.8;\" x=\"30.103125\" xlink:href=\"#m37fd0d876c\" y=\"101.302958\"/>\r\n      </g>\r\n     </g>\r\n     <g id=\"text_15\">\r\n      <!-- 0.5 -->\r\n      <g transform=\"translate(7.2 105.102177)scale(0.1 -0.1)\">\r\n       <use xlink:href=\"#DejaVuSans-48\"/>\r\n       <use x=\"63.623047\" xlink:href=\"#DejaVuSans-46\"/>\r\n       <use x=\"95.410156\" xlink:href=\"#DejaVuSans-53\"/>\r\n      </g>\r\n     </g>\r\n    </g>\r\n    <g id=\"ytick_7\">\r\n     <g id=\"line2d_16\">\r\n      <g>\r\n       <use style=\"stroke:#000000;stroke-width:0.8;\" x=\"30.103125\" xlink:href=\"#m37fd0d876c\" y=\"76.63555\"/>\r\n      </g>\r\n     </g>\r\n     <g id=\"text_16\">\r\n      <!-- 0.6 -->\r\n      <defs>\r\n       <path d=\"M 33.015625 40.375 \r\nQ 26.375 40.375 22.484375 35.828125 \r\nQ 18.609375 31.296875 18.609375 23.390625 \r\nQ 18.609375 15.53125 22.484375 10.953125 \r\nQ 26.375 6.390625 33.015625 6.390625 \r\nQ 39.65625 6.390625 43.53125 10.953125 \r\nQ 47.40625 15.53125 47.40625 23.390625 \r\nQ 47.40625 31.296875 43.53125 35.828125 \r\nQ 39.65625 40.375 33.015625 40.375 \r\nz\r\nM 52.59375 71.296875 \r\nL 52.59375 62.3125 \r\nQ 48.875 64.0625 45.09375 64.984375 \r\nQ 41.3125 65.921875 37.59375 65.921875 \r\nQ 27.828125 65.921875 22.671875 59.328125 \r\nQ 17.53125 52.734375 16.796875 39.40625 \r\nQ 19.671875 43.65625 24.015625 45.921875 \r\nQ 28.375 48.1875 33.59375 48.1875 \r\nQ 44.578125 48.1875 50.953125 41.515625 \r\nQ 57.328125 34.859375 57.328125 23.390625 \r\nQ 57.328125 12.15625 50.6875 5.359375 \r\nQ 44.046875 -1.421875 33.015625 -1.421875 \r\nQ 20.359375 -1.421875 13.671875 8.265625 \r\nQ 6.984375 17.96875 6.984375 36.375 \r\nQ 6.984375 53.65625 15.1875 63.9375 \r\nQ 23.390625 74.21875 37.203125 74.21875 \r\nQ 40.921875 74.21875 44.703125 73.484375 \r\nQ 48.484375 72.75 52.59375 71.296875 \r\nz\r\n\" id=\"DejaVuSans-54\"/>\r\n      </defs>\r\n      <g transform=\"translate(7.2 80.434769)scale(0.1 -0.1)\">\r\n       <use xlink:href=\"#DejaVuSans-48\"/>\r\n       <use x=\"63.623047\" xlink:href=\"#DejaVuSans-46\"/>\r\n       <use x=\"95.410156\" xlink:href=\"#DejaVuSans-54\"/>\r\n      </g>\r\n     </g>\r\n    </g>\r\n    <g id=\"ytick_8\">\r\n     <g id=\"line2d_17\">\r\n      <g>\r\n       <use style=\"stroke:#000000;stroke-width:0.8;\" x=\"30.103125\" xlink:href=\"#m37fd0d876c\" y=\"51.968142\"/>\r\n      </g>\r\n     </g>\r\n     <g id=\"text_17\">\r\n      <!-- 0.7 -->\r\n      <g transform=\"translate(7.2 55.76736)scale(0.1 -0.1)\">\r\n       <use xlink:href=\"#DejaVuSans-48\"/>\r\n       <use x=\"63.623047\" xlink:href=\"#DejaVuSans-46\"/>\r\n       <use x=\"95.410156\" xlink:href=\"#DejaVuSans-55\"/>\r\n      </g>\r\n     </g>\r\n    </g>\r\n    <g id=\"ytick_9\">\r\n     <g id=\"line2d_18\">\r\n      <g>\r\n       <use style=\"stroke:#000000;stroke-width:0.8;\" x=\"30.103125\" xlink:href=\"#m37fd0d876c\" y=\"27.300733\"/>\r\n      </g>\r\n     </g>\r\n     <g id=\"text_18\">\r\n      <!-- 0.8 -->\r\n      <g transform=\"translate(7.2 31.099952)scale(0.1 -0.1)\">\r\n       <use xlink:href=\"#DejaVuSans-48\"/>\r\n       <use x=\"63.623047\" xlink:href=\"#DejaVuSans-46\"/>\r\n       <use x=\"95.410156\" xlink:href=\"#DejaVuSans-56\"/>\r\n      </g>\r\n     </g>\r\n    </g>\r\n   </g>\r\n   <g id=\"line2d_19\">\r\n    <path clip-path=\"url(#p6d28236e24)\" d=\"M 45.321307 223.680791 \r\nL 47.717871 220.831237 \r\nL 50.114435 212.875884 \r\nL 52.510999 196.420833 \r\nL 57.304127 148.634474 \r\nL 59.700691 138.843778 \r\nL 62.097255 148.102452 \r\nL 66.890383 189.257641 \r\nL 69.286947 202.368026 \r\nL 71.683512 208.772582 \r\nL 74.080076 211.471227 \r\nL 76.47664 212.772866 \r\nL 78.873204 213.836064 \r\nL 81.269768 215.101581 \r\nL 88.45946 219.611542 \r\nL 90.856024 220.691981 \r\nL 93.252588 221.28141 \r\nL 95.649152 221.43575 \r\nL 98.045716 221.440577 \r\nL 100.44228 221.630368 \r\nL 102.838844 222.144645 \r\nL 107.631973 223.431008 \r\nL 110.028537 223.697922 \r\nL 112.425101 223.643064 \r\nL 117.218229 223.29801 \r\nL 124.407921 223.339883 \r\nL 126.804485 222.777988 \r\nL 129.201049 221.324209 \r\nL 131.597613 218.550893 \r\nL 133.994177 214.079043 \r\nL 136.390741 207.725334 \r\nL 138.787305 199.692181 \r\nL 141.183869 190.586578 \r\nL 143.580434 180.98055 \r\nL 145.976998 170.709601 \r\nL 148.373562 158.71254 \r\nL 150.770126 143.890627 \r\nL 153.16669 126.19479 \r\nL 160.356382 67.666985 \r\nL 162.752946 50.830323 \r\nL 165.14951 37.736696 \r\nL 167.546074 29.253694 \r\nL 169.942638 25.506611 \r\nL 172.339202 26.493216 \r\nL 174.735766 32.191805 \r\nL 177.13233 41.971296 \r\nL 179.528895 54.517925 \r\nL 181.925459 68.626207 \r\nL 184.322023 83.790126 \r\nL 191.511715 132.349716 \r\nL 193.908279 146.872416 \r\nL 196.304843 158.747834 \r\nL 198.701407 167.528904 \r\nL 201.097971 173.994221 \r\nL 203.494535 179.470967 \r\nL 205.891099 184.629992 \r\nL 208.287663 189.303571 \r\nL 210.684227 193.310279 \r\nL 220.270484 207.745776 \r\nL 222.667048 210.755113 \r\nL 225.063612 213.131993 \r\nL 227.460176 214.832757 \r\nL 229.85674 215.963192 \r\nL 234.649868 217.444384 \r\nL 237.046432 217.990309 \r\nL 239.442996 218.056689 \r\nL 241.83956 217.258097 \r\nL 244.236124 215.614969 \r\nL 246.632688 213.756215 \r\nL 249.029252 212.616966 \r\nL 251.425816 212.825131 \r\nL 253.822381 214.260089 \r\nL 256.218945 216.147814 \r\nL 258.615509 217.634667 \r\nL 261.012073 218.378107 \r\nL 265.805201 219.076047 \r\nL 268.201765 219.890566 \r\nL 272.994893 221.985425 \r\nL 275.391457 222.573405 \r\nL 277.788021 222.739208 \r\nL 282.581149 222.783311 \r\nL 284.977713 223.030616 \r\nL 292.167406 224.129942 \r\nL 296.960534 224.526721 \r\nL 301.753662 224.629325 \r\nL 325.719303 224.60544 \r\nL 337.702123 224.306303 \r\nL 347.288379 224.593646 \r\nL 349.684943 224.447976 \r\nL 349.684943 224.447976 \r\n\" style=\"fill:none;stroke:#1f77b4;stroke-linecap:square;stroke-width:1.5;\"/>\r\n   </g>\r\n   <g id=\"patch_53\">\r\n    <path d=\"M 30.103125 224.64 \r\nL 30.103125 7.2 \r\n\" style=\"fill:none;stroke:#000000;stroke-linecap:square;stroke-linejoin:miter;stroke-width:0.8;\"/>\r\n   </g>\r\n   <g id=\"patch_54\">\r\n    <path d=\"M 364.903125 224.64 \r\nL 364.903125 7.2 \r\n\" style=\"fill:none;stroke:#000000;stroke-linecap:square;stroke-linejoin:miter;stroke-width:0.8;\"/>\r\n   </g>\r\n   <g id=\"patch_55\">\r\n    <path d=\"M 30.103125 224.64 \r\nL 364.903125 224.64 \r\n\" style=\"fill:none;stroke:#000000;stroke-linecap:square;stroke-linejoin:miter;stroke-width:0.8;\"/>\r\n   </g>\r\n   <g id=\"patch_56\">\r\n    <path d=\"M 30.103125 7.2 \r\nL 364.903125 7.2 \r\n\" style=\"fill:none;stroke:#000000;stroke-linecap:square;stroke-linejoin:miter;stroke-width:0.8;\"/>\r\n   </g>\r\n  </g>\r\n </g>\r\n <defs>\r\n  <clipPath id=\"p6d28236e24\">\r\n   <rect height=\"217.44\" width=\"334.8\" x=\"30.103125\" y=\"7.2\"/>\r\n  </clipPath>\r\n </defs>\r\n</svg>\r\n",
      "image/png": "[encoded data removed]"
     },
     "metadata": {
      "needs_background": "light"
     }
    }
   ],
   "source": [
    "#check value distribution of target variable\n",
    "sns.distplot(y_test)\n"
   ]
  },
  {
   "cell_type": "code",
   "execution_count": 25,
   "metadata": {},
   "outputs": [],
   "source": [
    "#define first numerical features\n",
    "base = ['engine_hp', 'engine_cylinders', 'highway_mpg', 'city_mpg', 'popularity']"
   ]
  },
  {
   "cell_type": "code",
   "execution_count": 26,
   "metadata": {},
   "outputs": [
    {
     "output_type": "execute_result",
     "data": {
      "text/plain": [
       "LinearRegression()"
      ]
     },
     "metadata": {},
     "execution_count": 26
    }
   ],
   "source": [
    "#train multiple linear regression model\n",
    "from sklearn.linear_model import LinearRegression\n",
    "regressor = LinearRegression()\n",
    "regressor.fit(df_train[base], y_train)"
   ]
  },
  {
   "cell_type": "code",
   "execution_count": 27,
   "metadata": {},
   "outputs": [],
   "source": [
    "#use model (regressor) to predict target variable\n",
    "y_pred = regressor.predict(df_test[base])"
   ]
  },
  {
   "cell_type": "code",
   "execution_count": 28,
   "metadata": {},
   "outputs": [
    {
     "output_type": "execute_result",
     "data": {
      "text/plain": [
       "<matplotlib.legend.Legend at 0x1c44aa71cd0>"
      ]
     },
     "metadata": {},
     "execution_count": 28
    },
    {
     "output_type": "display_data",
     "data": {
      "text/plain": "<Figure size 432x288 with 1 Axes>",
      "image/svg+xml": "<?xml version=\"1.0\" encoding=\"utf-8\" standalone=\"no\"?>\r\n<!DOCTYPE svg PUBLIC \"-//W3C//DTD SVG 1.1//EN\"\r\n  \"http://www.w3.org/Graphics/SVG/1.1/DTD/svg11.dtd\">\r\n<!-- Created with matplotlib (https://matplotlib.org/) -->\r\n<svg height=\"248.518125pt\" version=\"1.1\" viewBox=\"0 0 372.103125 248.518125\" width=\"372.103125pt\" xmlns=\"http://www.w3.org/2000/svg\" xmlns:xlink=\"http://www.w3.org/1999/xlink\">\r\n <defs>\r\n  <style type=\"text/css\">\r\n*{stroke-linecap:butt;stroke-linejoin:round;}\r\n  </style>\r\n </defs>\r\n <g id=\"figure_1\">\r\n  <g id=\"patch_1\">\r\n   <path d=\"M 0 248.518125 \r\nL 372.103125 248.518125 \r\nL 372.103125 0 \r\nL 0 0 \r\nz\r\n\" style=\"fill:none;\"/>\r\n  </g>\r\n  <g id=\"axes_1\">\r\n   <g id=\"patch_2\">\r\n    <path d=\"M 30.103125 224.64 \r\nL 364.903125 224.64 \r\nL 364.903125 7.2 \r\nL 30.103125 7.2 \r\nz\r\n\" style=\"fill:#ffffff;\"/>\r\n   </g>\r\n   <g id=\"patch_3\">\r\n    <path clip-path=\"url(#p4861b9f6bd)\" d=\"M 93.146699 224.64 \r\nL 98.242335 224.64 \r\nL 98.242335 213.037092 \r\nL 93.146699 213.037092 \r\nz\r\n\" style=\"fill:#1f77b4;opacity:0.4;\"/>\r\n   </g>\r\n   <g id=\"patch_4\">\r\n    <path clip-path=\"url(#p4861b9f6bd)\" d=\"M 98.242335 224.64 \r\nL 103.337971 224.64 \r\nL 103.337971 210.861547 \r\nL 98.242335 210.861547 \r\nz\r\n\" style=\"fill:#1f77b4;opacity:0.4;\"/>\r\n   </g>\r\n   <g id=\"patch_5\">\r\n    <path clip-path=\"url(#p4861b9f6bd)\" d=\"M 103.337971 224.64 \r\nL 108.433608 224.64 \r\nL 108.433608 183.304641 \r\nL 103.337971 183.304641 \r\nz\r\n\" style=\"fill:#1f77b4;opacity:0.4;\"/>\r\n   </g>\r\n   <g id=\"patch_6\">\r\n    <path clip-path=\"url(#p4861b9f6bd)\" d=\"M 108.433608 224.64 \r\nL 113.529244 224.64 \r\nL 113.529244 173.152097 \r\nL 108.433608 173.152097 \r\nz\r\n\" style=\"fill:#1f77b4;opacity:0.4;\"/>\r\n   </g>\r\n   <g id=\"patch_7\">\r\n    <path clip-path=\"url(#p4861b9f6bd)\" d=\"M 113.529244 224.64 \r\nL 118.62488 224.64 \r\nL 118.62488 106.435377 \r\nL 113.529244 106.435377 \r\nz\r\n\" style=\"fill:#1f77b4;opacity:0.4;\"/>\r\n   </g>\r\n   <g id=\"patch_8\">\r\n    <path clip-path=\"url(#p4861b9f6bd)\" d=\"M 118.62488 224.64 \r\nL 123.720516 224.64 \r\nL 123.720516 110.061286 \r\nL 118.62488 110.061286 \r\nz\r\n\" style=\"fill:#1f77b4;opacity:0.4;\"/>\r\n   </g>\r\n   <g id=\"patch_9\">\r\n    <path clip-path=\"url(#p4861b9f6bd)\" d=\"M 123.720516 224.64 \r\nL 128.816153 224.64 \r\nL 128.816153 77.428108 \r\nL 123.720516 77.428108 \r\nz\r\n\" style=\"fill:#1f77b4;opacity:0.4;\"/>\r\n   </g>\r\n   <g id=\"patch_10\">\r\n    <path clip-path=\"url(#p4861b9f6bd)\" d=\"M 128.816153 224.64 \r\nL 133.911789 224.64 \r\nL 133.911789 107.885741 \r\nL 128.816153 107.885741 \r\nz\r\n\" style=\"fill:#1f77b4;opacity:0.4;\"/>\r\n   </g>\r\n   <g id=\"patch_11\">\r\n    <path clip-path=\"url(#p4861b9f6bd)\" d=\"M 133.911789 224.64 \r\nL 139.007425 224.64 \r\nL 139.007425 109.336104 \r\nL 133.911789 109.336104 \r\nz\r\n\" style=\"fill:#1f77b4;opacity:0.4;\"/>\r\n   </g>\r\n   <g id=\"patch_12\">\r\n    <path clip-path=\"url(#p4861b9f6bd)\" d=\"M 139.007425 224.64 \r\nL 144.103062 224.64 \r\nL 144.103062 68.725927 \r\nL 139.007425 68.725927 \r\nz\r\n\" style=\"fill:#1f77b4;opacity:0.4;\"/>\r\n   </g>\r\n   <g id=\"patch_13\">\r\n    <path clip-path=\"url(#p4861b9f6bd)\" d=\"M 144.103062 224.64 \r\nL 149.198698 224.64 \r\nL 149.198698 83.229562 \r\nL 144.103062 83.229562 \r\nz\r\n\" style=\"fill:#1f77b4;opacity:0.4;\"/>\r\n   </g>\r\n   <g id=\"patch_14\">\r\n    <path clip-path=\"url(#p4861b9f6bd)\" d=\"M 149.198698 224.64 \r\nL 154.294334 224.64 \r\nL 154.294334 96.282833 \r\nL 149.198698 96.282833 \r\nz\r\n\" style=\"fill:#1f77b4;opacity:0.4;\"/>\r\n   </g>\r\n   <g id=\"patch_15\">\r\n    <path clip-path=\"url(#p4861b9f6bd)\" d=\"M 154.294334 224.64 \r\nL 159.389971 224.64 \r\nL 159.389971 107.885741 \r\nL 154.294334 107.885741 \r\nz\r\n\" style=\"fill:#1f77b4;opacity:0.4;\"/>\r\n   </g>\r\n   <g id=\"patch_16\">\r\n    <path clip-path=\"url(#p4861b9f6bd)\" d=\"M 159.389971 224.64 \r\nL 164.485607 224.64 \r\nL 164.485607 126.015284 \r\nL 159.389971 126.015284 \r\nz\r\n\" style=\"fill:#1f77b4;opacity:0.4;\"/>\r\n   </g>\r\n   <g id=\"patch_17\">\r\n    <path clip-path=\"url(#p4861b9f6bd)\" d=\"M 164.485607 224.64 \r\nL 169.581243 224.64 \r\nL 169.581243 155.022553 \r\nL 164.485607 155.022553 \r\nz\r\n\" style=\"fill:#1f77b4;opacity:0.4;\"/>\r\n   </g>\r\n   <g id=\"patch_18\">\r\n    <path clip-path=\"url(#p4861b9f6bd)\" d=\"M 169.581243 224.64 \r\nL 174.67688 224.64 \r\nL 174.67688 144.870009 \r\nL 169.581243 144.870009 \r\nz\r\n\" style=\"fill:#1f77b4;opacity:0.4;\"/>\r\n   </g>\r\n   <g id=\"patch_19\">\r\n    <path clip-path=\"url(#p4861b9f6bd)\" d=\"M 174.67688 224.64 \r\nL 179.772516 224.64 \r\nL 179.772516 182.579459 \r\nL 174.67688 182.579459 \r\nz\r\n\" style=\"fill:#1f77b4;opacity:0.4;\"/>\r\n   </g>\r\n   <g id=\"patch_20\">\r\n    <path clip-path=\"url(#p4861b9f6bd)\" d=\"M 179.772516 224.64 \r\nL 184.868152 224.64 \r\nL 184.868152 210.136365 \r\nL 179.772516 210.136365 \r\nz\r\n\" style=\"fill:#1f77b4;opacity:0.4;\"/>\r\n   </g>\r\n   <g id=\"patch_21\">\r\n    <path clip-path=\"url(#p4861b9f6bd)\" d=\"M 184.868152 224.64 \r\nL 189.963789 224.64 \r\nL 189.963789 198.533458 \r\nL 184.868152 198.533458 \r\nz\r\n\" style=\"fill:#1f77b4;opacity:0.4;\"/>\r\n   </g>\r\n   <g id=\"patch_22\">\r\n    <path clip-path=\"url(#p4861b9f6bd)\" d=\"M 189.963789 224.64 \r\nL 195.059425 224.64 \r\nL 195.059425 209.411184 \r\nL 189.963789 209.411184 \r\nz\r\n\" style=\"fill:#1f77b4;opacity:0.4;\"/>\r\n   </g>\r\n   <g id=\"patch_23\">\r\n    <path clip-path=\"url(#p4861b9f6bd)\" d=\"M 195.059425 224.64 \r\nL 200.155061 224.64 \r\nL 200.155061 207.235638 \r\nL 195.059425 207.235638 \r\nz\r\n\" style=\"fill:#1f77b4;opacity:0.4;\"/>\r\n   </g>\r\n   <g id=\"patch_24\">\r\n    <path clip-path=\"url(#p4861b9f6bd)\" d=\"M 200.155061 224.64 \r\nL 205.250697 224.64 \r\nL 205.250697 199.983821 \r\nL 200.155061 199.983821 \r\nz\r\n\" style=\"fill:#1f77b4;opacity:0.4;\"/>\r\n   </g>\r\n   <g id=\"patch_25\">\r\n    <path clip-path=\"url(#p4861b9f6bd)\" d=\"M 205.250697 224.64 \r\nL 210.346334 224.64 \r\nL 210.346334 220.28891 \r\nL 205.250697 220.28891 \r\nz\r\n\" style=\"fill:#1f77b4;opacity:0.4;\"/>\r\n   </g>\r\n   <g id=\"patch_26\">\r\n    <path clip-path=\"url(#p4861b9f6bd)\" d=\"M 210.346334 224.64 \r\nL 215.44197 224.64 \r\nL 215.44197 219.563728 \r\nL 210.346334 219.563728 \r\nz\r\n\" style=\"fill:#1f77b4;opacity:0.4;\"/>\r\n   </g>\r\n   <g id=\"patch_27\">\r\n    <path clip-path=\"url(#p4861b9f6bd)\" d=\"M 215.44197 224.64 \r\nL 220.537606 224.64 \r\nL 220.537606 213.762274 \r\nL 215.44197 213.762274 \r\nz\r\n\" style=\"fill:#1f77b4;opacity:0.4;\"/>\r\n   </g>\r\n   <g id=\"patch_28\">\r\n    <path clip-path=\"url(#p4861b9f6bd)\" d=\"M 220.537606 224.64 \r\nL 225.633243 224.64 \r\nL 225.633243 215.937819 \r\nL 220.537606 215.937819 \r\nz\r\n\" style=\"fill:#1f77b4;opacity:0.4;\"/>\r\n   </g>\r\n   <g id=\"patch_29\">\r\n    <path clip-path=\"url(#p4861b9f6bd)\" d=\"M 225.633243 224.64 \r\nL 230.728879 224.64 \r\nL 230.728879 218.113364 \r\nL 225.633243 218.113364 \r\nz\r\n\" style=\"fill:#1f77b4;opacity:0.4;\"/>\r\n   </g>\r\n   <g id=\"patch_30\">\r\n    <path clip-path=\"url(#p4861b9f6bd)\" d=\"M 230.728879 224.64 \r\nL 235.824515 224.64 \r\nL 235.824515 216.663001 \r\nL 230.728879 216.663001 \r\nz\r\n\" style=\"fill:#1f77b4;opacity:0.4;\"/>\r\n   </g>\r\n   <g id=\"patch_31\">\r\n    <path clip-path=\"url(#p4861b9f6bd)\" d=\"M 235.824515 224.64 \r\nL 240.920152 224.64 \r\nL 240.920152 218.838546 \r\nL 235.824515 218.838546 \r\nz\r\n\" style=\"fill:#1f77b4;opacity:0.4;\"/>\r\n   </g>\r\n   <g id=\"patch_32\">\r\n    <path clip-path=\"url(#p4861b9f6bd)\" d=\"M 240.920152 224.64 \r\nL 246.015788 224.64 \r\nL 246.015788 221.014091 \r\nL 240.920152 221.014091 \r\nz\r\n\" style=\"fill:#1f77b4;opacity:0.4;\"/>\r\n   </g>\r\n   <g id=\"patch_33\">\r\n    <path clip-path=\"url(#p4861b9f6bd)\" d=\"M 246.015788 224.64 \r\nL 251.111424 224.64 \r\nL 251.111424 220.28891 \r\nL 246.015788 220.28891 \r\nz\r\n\" style=\"fill:#1f77b4;opacity:0.4;\"/>\r\n   </g>\r\n   <g id=\"patch_34\">\r\n    <path clip-path=\"url(#p4861b9f6bd)\" d=\"M 251.111424 224.64 \r\nL 256.207061 224.64 \r\nL 256.207061 221.739273 \r\nL 251.111424 221.739273 \r\nz\r\n\" style=\"fill:#1f77b4;opacity:0.4;\"/>\r\n   </g>\r\n   <g id=\"patch_35\">\r\n    <path clip-path=\"url(#p4861b9f6bd)\" d=\"M 256.207061 224.64 \r\nL 261.302697 224.64 \r\nL 261.302697 224.64 \r\nL 256.207061 224.64 \r\nz\r\n\" style=\"fill:#1f77b4;opacity:0.4;\"/>\r\n   </g>\r\n   <g id=\"patch_36\">\r\n    <path clip-path=\"url(#p4861b9f6bd)\" d=\"M 261.302697 224.64 \r\nL 266.398333 224.64 \r\nL 266.398333 219.563728 \r\nL 261.302697 219.563728 \r\nz\r\n\" style=\"fill:#1f77b4;opacity:0.4;\"/>\r\n   </g>\r\n   <g id=\"patch_37\">\r\n    <path clip-path=\"url(#p4861b9f6bd)\" d=\"M 266.398333 224.64 \r\nL 271.493969 224.64 \r\nL 271.493969 223.914818 \r\nL 266.398333 223.914818 \r\nz\r\n\" style=\"fill:#1f77b4;opacity:0.4;\"/>\r\n   </g>\r\n   <g id=\"patch_38\">\r\n    <path clip-path=\"url(#p4861b9f6bd)\" d=\"M 271.493969 224.64 \r\nL 276.589606 224.64 \r\nL 276.589606 224.64 \r\nL 271.493969 224.64 \r\nz\r\n\" style=\"fill:#1f77b4;opacity:0.4;\"/>\r\n   </g>\r\n   <g id=\"patch_39\">\r\n    <path clip-path=\"url(#p4861b9f6bd)\" d=\"M 276.589606 224.64 \r\nL 281.685242 224.64 \r\nL 281.685242 224.64 \r\nL 276.589606 224.64 \r\nz\r\n\" style=\"fill:#1f77b4;opacity:0.4;\"/>\r\n   </g>\r\n   <g id=\"patch_40\">\r\n    <path clip-path=\"url(#p4861b9f6bd)\" d=\"M 281.685242 224.64 \r\nL 286.780878 224.64 \r\nL 286.780878 223.914818 \r\nL 281.685242 223.914818 \r\nz\r\n\" style=\"fill:#1f77b4;opacity:0.4;\"/>\r\n   </g>\r\n   <g id=\"patch_41\">\r\n    <path clip-path=\"url(#p4861b9f6bd)\" d=\"M 286.780878 224.64 \r\nL 291.876515 224.64 \r\nL 291.876515 224.64 \r\nL 286.780878 224.64 \r\nz\r\n\" style=\"fill:#1f77b4;opacity:0.4;\"/>\r\n   </g>\r\n   <g id=\"patch_42\">\r\n    <path clip-path=\"url(#p4861b9f6bd)\" d=\"M 291.876515 224.64 \r\nL 296.972151 224.64 \r\nL 296.972151 224.64 \r\nL 291.876515 224.64 \r\nz\r\n\" style=\"fill:#1f77b4;opacity:0.4;\"/>\r\n   </g>\r\n   <g id=\"patch_43\">\r\n    <path clip-path=\"url(#p4861b9f6bd)\" d=\"M 296.972151 224.64 \r\nL 302.067787 224.64 \r\nL 302.067787 224.64 \r\nL 296.972151 224.64 \r\nz\r\n\" style=\"fill:#1f77b4;opacity:0.4;\"/>\r\n   </g>\r\n   <g id=\"patch_44\">\r\n    <path clip-path=\"url(#p4861b9f6bd)\" d=\"M 302.067787 224.64 \r\nL 307.163424 224.64 \r\nL 307.163424 224.64 \r\nL 302.067787 224.64 \r\nz\r\n\" style=\"fill:#1f77b4;opacity:0.4;\"/>\r\n   </g>\r\n   <g id=\"patch_45\">\r\n    <path clip-path=\"url(#p4861b9f6bd)\" d=\"M 307.163424 224.64 \r\nL 312.25906 224.64 \r\nL 312.25906 224.64 \r\nL 307.163424 224.64 \r\nz\r\n\" style=\"fill:#1f77b4;opacity:0.4;\"/>\r\n   </g>\r\n   <g id=\"patch_46\">\r\n    <path clip-path=\"url(#p4861b9f6bd)\" d=\"M 312.25906 224.64 \r\nL 317.354696 224.64 \r\nL 317.354696 224.64 \r\nL 312.25906 224.64 \r\nz\r\n\" style=\"fill:#1f77b4;opacity:0.4;\"/>\r\n   </g>\r\n   <g id=\"patch_47\">\r\n    <path clip-path=\"url(#p4861b9f6bd)\" d=\"M 317.354696 224.64 \r\nL 322.450333 224.64 \r\nL 322.450333 224.64 \r\nL 317.354696 224.64 \r\nz\r\n\" style=\"fill:#1f77b4;opacity:0.4;\"/>\r\n   </g>\r\n   <g id=\"patch_48\">\r\n    <path clip-path=\"url(#p4861b9f6bd)\" d=\"M 322.450333 224.64 \r\nL 327.545969 224.64 \r\nL 327.545969 224.64 \r\nL 322.450333 224.64 \r\nz\r\n\" style=\"fill:#1f77b4;opacity:0.4;\"/>\r\n   </g>\r\n   <g id=\"patch_49\">\r\n    <path clip-path=\"url(#p4861b9f6bd)\" d=\"M 327.545969 224.64 \r\nL 332.641605 224.64 \r\nL 332.641605 223.914818 \r\nL 327.545969 223.914818 \r\nz\r\n\" style=\"fill:#1f77b4;opacity:0.4;\"/>\r\n   </g>\r\n   <g id=\"patch_50\">\r\n    <path clip-path=\"url(#p4861b9f6bd)\" d=\"M 57.405297 224.64 \r\nL 62.223209 224.64 \r\nL 62.223209 45.165714 \r\nL 57.405297 45.165714 \r\nz\r\n\" style=\"fill:#ff7f0e;opacity:0.4;\"/>\r\n   </g>\r\n   <g id=\"patch_51\">\r\n    <path clip-path=\"url(#p4861b9f6bd)\" d=\"M 62.223209 224.64 \r\nL 67.041122 224.64 \r\nL 67.041122 207.766349 \r\nL 62.223209 207.766349 \r\nz\r\n\" style=\"fill:#ff7f0e;opacity:0.4;\"/>\r\n   </g>\r\n   <g id=\"patch_52\">\r\n    <path clip-path=\"url(#p4861b9f6bd)\" d=\"M 67.041122 224.64 \r\nL 71.859034 224.64 \r\nL 71.859034 212.368254 \r\nL 67.041122 212.368254 \r\nz\r\n\" style=\"fill:#ff7f0e;opacity:0.4;\"/>\r\n   </g>\r\n   <g id=\"patch_53\">\r\n    <path clip-path=\"url(#p4861b9f6bd)\" d=\"M 71.859034 224.64 \r\nL 76.676946 224.64 \r\nL 76.676946 211.60127 \r\nL 71.859034 211.60127 \r\nz\r\n\" style=\"fill:#ff7f0e;opacity:0.4;\"/>\r\n   </g>\r\n   <g id=\"patch_54\">\r\n    <path clip-path=\"url(#p4861b9f6bd)\" d=\"M 76.676946 224.64 \r\nL 81.494859 224.64 \r\nL 81.494859 218.504127 \r\nL 76.676946 218.504127 \r\nz\r\n\" style=\"fill:#ff7f0e;opacity:0.4;\"/>\r\n   </g>\r\n   <g id=\"patch_55\">\r\n    <path clip-path=\"url(#p4861b9f6bd)\" d=\"M 81.494859 224.64 \r\nL 86.312771 224.64 \r\nL 86.312771 220.805079 \r\nL 81.494859 220.805079 \r\nz\r\n\" style=\"fill:#ff7f0e;opacity:0.4;\"/>\r\n   </g>\r\n   <g id=\"patch_56\">\r\n    <path clip-path=\"url(#p4861b9f6bd)\" d=\"M 86.312771 224.64 \r\nL 91.130684 224.64 \r\nL 91.130684 221.572063 \r\nL 86.312771 221.572063 \r\nz\r\n\" style=\"fill:#ff7f0e;opacity:0.4;\"/>\r\n   </g>\r\n   <g id=\"patch_57\">\r\n    <path clip-path=\"url(#p4861b9f6bd)\" d=\"M 91.130684 224.64 \r\nL 95.948596 224.64 \r\nL 95.948596 220.038095 \r\nL 91.130684 220.038095 \r\nz\r\n\" style=\"fill:#ff7f0e;opacity:0.4;\"/>\r\n   </g>\r\n   <g id=\"patch_58\">\r\n    <path clip-path=\"url(#p4861b9f6bd)\" d=\"M 95.948596 224.64 \r\nL 100.766509 224.64 \r\nL 100.766509 224.64 \r\nL 95.948596 224.64 \r\nz\r\n\" style=\"fill:#ff7f0e;opacity:0.4;\"/>\r\n   </g>\r\n   <g id=\"patch_59\">\r\n    <path clip-path=\"url(#p4861b9f6bd)\" d=\"M 100.766509 224.64 \r\nL 105.584421 224.64 \r\nL 105.584421 223.873016 \r\nL 100.766509 223.873016 \r\nz\r\n\" style=\"fill:#ff7f0e;opacity:0.4;\"/>\r\n   </g>\r\n   <g id=\"patch_60\">\r\n    <path clip-path=\"url(#p4861b9f6bd)\" d=\"M 105.584421 224.64 \r\nL 110.402334 224.64 \r\nL 110.402334 223.106032 \r\nL 105.584421 223.106032 \r\nz\r\n\" style=\"fill:#ff7f0e;opacity:0.4;\"/>\r\n   </g>\r\n   <g id=\"patch_61\">\r\n    <path clip-path=\"url(#p4861b9f6bd)\" d=\"M 110.402334 224.64 \r\nL 115.220246 224.64 \r\nL 115.220246 223.873016 \r\nL 110.402334 223.873016 \r\nz\r\n\" style=\"fill:#ff7f0e;opacity:0.4;\"/>\r\n   </g>\r\n   <g id=\"patch_62\">\r\n    <path clip-path=\"url(#p4861b9f6bd)\" d=\"M 115.220246 224.64 \r\nL 120.038159 224.64 \r\nL 120.038159 223.873016 \r\nL 115.220246 223.873016 \r\nz\r\n\" style=\"fill:#ff7f0e;opacity:0.4;\"/>\r\n   </g>\r\n   <g id=\"patch_63\">\r\n    <path clip-path=\"url(#p4861b9f6bd)\" d=\"M 120.038159 224.64 \r\nL 124.856071 224.64 \r\nL 124.856071 217.737143 \r\nL 120.038159 217.737143 \r\nz\r\n\" style=\"fill:#ff7f0e;opacity:0.4;\"/>\r\n   </g>\r\n   <g id=\"patch_64\">\r\n    <path clip-path=\"url(#p4861b9f6bd)\" d=\"M 124.856071 224.64 \r\nL 129.673983 224.64 \r\nL 129.673983 199.329524 \r\nL 124.856071 199.329524 \r\nz\r\n\" style=\"fill:#ff7f0e;opacity:0.4;\"/>\r\n   </g>\r\n   <g id=\"patch_65\">\r\n    <path clip-path=\"url(#p4861b9f6bd)\" d=\"M 129.673983 224.64 \r\nL 134.491896 224.64 \r\nL 134.491896 173.252063 \r\nL 129.673983 173.252063 \r\nz\r\n\" style=\"fill:#ff7f0e;opacity:0.4;\"/>\r\n   </g>\r\n   <g id=\"patch_66\">\r\n    <path clip-path=\"url(#p4861b9f6bd)\" d=\"M 134.491896 224.64 \r\nL 139.309808 224.64 \r\nL 139.309808 157.912381 \r\nL 134.491896 157.912381 \r\nz\r\n\" style=\"fill:#ff7f0e;opacity:0.4;\"/>\r\n   </g>\r\n   <g id=\"patch_67\">\r\n    <path clip-path=\"url(#p4861b9f6bd)\" d=\"M 139.309808 224.64 \r\nL 144.127721 224.64 \r\nL 144.127721 99.621587 \r\nL 139.309808 99.621587 \r\nz\r\n\" style=\"fill:#ff7f0e;opacity:0.4;\"/>\r\n   </g>\r\n   <g id=\"patch_68\">\r\n    <path clip-path=\"url(#p4861b9f6bd)\" d=\"M 144.127721 224.64 \r\nL 148.945633 224.64 \r\nL 148.945633 58.204444 \r\nL 144.127721 58.204444 \r\nz\r\n\" style=\"fill:#ff7f0e;opacity:0.4;\"/>\r\n   </g>\r\n   <g id=\"patch_69\">\r\n    <path clip-path=\"url(#p4861b9f6bd)\" d=\"M 148.945633 224.64 \r\nL 153.763546 224.64 \r\nL 153.763546 17.554286 \r\nL 148.945633 17.554286 \r\nz\r\n\" style=\"fill:#ff7f0e;opacity:0.4;\"/>\r\n   </g>\r\n   <g id=\"patch_70\">\r\n    <path clip-path=\"url(#p4861b9f6bd)\" d=\"M 153.763546 224.64 \r\nL 158.581458 224.64 \r\nL 158.581458 18.32127 \r\nL 153.763546 18.32127 \r\nz\r\n\" style=\"fill:#ff7f0e;opacity:0.4;\"/>\r\n   </g>\r\n   <g id=\"patch_71\">\r\n    <path clip-path=\"url(#p4861b9f6bd)\" d=\"M 158.581458 224.64 \r\nL 163.399371 224.64 \r\nL 163.399371 45.165714 \r\nL 158.581458 45.165714 \r\nz\r\n\" style=\"fill:#ff7f0e;opacity:0.4;\"/>\r\n   </g>\r\n   <g id=\"patch_72\">\r\n    <path clip-path=\"url(#p4861b9f6bd)\" d=\"M 163.399371 224.64 \r\nL 168.217283 224.64 \r\nL 168.217283 70.47619 \r\nL 163.399371 70.47619 \r\nz\r\n\" style=\"fill:#ff7f0e;opacity:0.4;\"/>\r\n   </g>\r\n   <g id=\"patch_73\">\r\n    <path clip-path=\"url(#p4861b9f6bd)\" d=\"M 168.217283 224.64 \r\nL 173.035196 224.64 \r\nL 173.035196 122.631111 \r\nL 168.217283 122.631111 \r\nz\r\n\" style=\"fill:#ff7f0e;opacity:0.4;\"/>\r\n   </g>\r\n   <g id=\"patch_74\">\r\n    <path clip-path=\"url(#p4861b9f6bd)\" d=\"M 173.035196 224.64 \r\nL 177.853108 224.64 \r\nL 177.853108 159.446349 \r\nL 173.035196 159.446349 \r\nz\r\n\" style=\"fill:#ff7f0e;opacity:0.4;\"/>\r\n   </g>\r\n   <g id=\"patch_75\">\r\n    <path clip-path=\"url(#p4861b9f6bd)\" d=\"M 177.853108 224.64 \r\nL 182.67102 224.64 \r\nL 182.67102 171.718095 \r\nL 177.853108 171.718095 \r\nz\r\n\" style=\"fill:#ff7f0e;opacity:0.4;\"/>\r\n   </g>\r\n   <g id=\"patch_76\">\r\n    <path clip-path=\"url(#p4861b9f6bd)\" d=\"M 182.67102 224.64 \r\nL 187.488933 224.64 \r\nL 187.488933 187.057778 \r\nL 182.67102 187.057778 \r\nz\r\n\" style=\"fill:#ff7f0e;opacity:0.4;\"/>\r\n   </g>\r\n   <g id=\"patch_77\">\r\n    <path clip-path=\"url(#p4861b9f6bd)\" d=\"M 187.488933 224.64 \r\nL 192.306845 224.64 \r\nL 192.306845 193.193651 \r\nL 187.488933 193.193651 \r\nz\r\n\" style=\"fill:#ff7f0e;opacity:0.4;\"/>\r\n   </g>\r\n   <g id=\"patch_78\">\r\n    <path clip-path=\"url(#p4861b9f6bd)\" d=\"M 192.306845 224.64 \r\nL 197.124758 224.64 \r\nL 197.124758 203.164444 \r\nL 192.306845 203.164444 \r\nz\r\n\" style=\"fill:#ff7f0e;opacity:0.4;\"/>\r\n   </g>\r\n   <g id=\"patch_79\">\r\n    <path clip-path=\"url(#p4861b9f6bd)\" d=\"M 197.124758 224.64 \r\nL 201.94267 224.64 \r\nL 201.94267 213.135238 \r\nL 197.124758 213.135238 \r\nz\r\n\" style=\"fill:#ff7f0e;opacity:0.4;\"/>\r\n   </g>\r\n   <g id=\"patch_80\">\r\n    <path clip-path=\"url(#p4861b9f6bd)\" d=\"M 201.94267 224.64 \r\nL 206.760583 224.64 \r\nL 206.760583 216.203175 \r\nL 201.94267 216.203175 \r\nz\r\n\" style=\"fill:#ff7f0e;opacity:0.4;\"/>\r\n   </g>\r\n   <g id=\"patch_81\">\r\n    <path clip-path=\"url(#p4861b9f6bd)\" d=\"M 206.760583 224.64 \r\nL 211.578495 224.64 \r\nL 211.578495 216.203175 \r\nL 206.760583 216.203175 \r\nz\r\n\" style=\"fill:#ff7f0e;opacity:0.4;\"/>\r\n   </g>\r\n   <g id=\"patch_82\">\r\n    <path clip-path=\"url(#p4861b9f6bd)\" d=\"M 211.578495 224.64 \r\nL 216.396408 224.64 \r\nL 216.396408 219.271111 \r\nL 211.578495 219.271111 \r\nz\r\n\" style=\"fill:#ff7f0e;opacity:0.4;\"/>\r\n   </g>\r\n   <g id=\"patch_83\">\r\n    <path clip-path=\"url(#p4861b9f6bd)\" d=\"M 216.396408 224.64 \r\nL 221.21432 224.64 \r\nL 221.21432 216.970159 \r\nL 216.396408 216.970159 \r\nz\r\n\" style=\"fill:#ff7f0e;opacity:0.4;\"/>\r\n   </g>\r\n   <g id=\"patch_84\">\r\n    <path clip-path=\"url(#p4861b9f6bd)\" d=\"M 221.21432 224.64 \r\nL 226.032233 224.64 \r\nL 226.032233 208.533333 \r\nL 221.21432 208.533333 \r\nz\r\n\" style=\"fill:#ff7f0e;opacity:0.4;\"/>\r\n   </g>\r\n   <g id=\"patch_85\">\r\n    <path clip-path=\"url(#p4861b9f6bd)\" d=\"M 226.032233 224.64 \r\nL 230.850145 224.64 \r\nL 230.850145 216.970159 \r\nL 226.032233 216.970159 \r\nz\r\n\" style=\"fill:#ff7f0e;opacity:0.4;\"/>\r\n   </g>\r\n   <g id=\"patch_86\">\r\n    <path clip-path=\"url(#p4861b9f6bd)\" d=\"M 230.850145 224.64 \r\nL 235.668057 224.64 \r\nL 235.668057 218.504127 \r\nL 230.850145 218.504127 \r\nz\r\n\" style=\"fill:#ff7f0e;opacity:0.4;\"/>\r\n   </g>\r\n   <g id=\"patch_87\">\r\n    <path clip-path=\"url(#p4861b9f6bd)\" d=\"M 235.668057 224.64 \r\nL 240.48597 224.64 \r\nL 240.48597 217.737143 \r\nL 235.668057 217.737143 \r\nz\r\n\" style=\"fill:#ff7f0e;opacity:0.4;\"/>\r\n   </g>\r\n   <g id=\"patch_88\">\r\n    <path clip-path=\"url(#p4861b9f6bd)\" d=\"M 240.48597 224.64 \r\nL 245.303882 224.64 \r\nL 245.303882 223.106032 \r\nL 240.48597 223.106032 \r\nz\r\n\" style=\"fill:#ff7f0e;opacity:0.4;\"/>\r\n   </g>\r\n   <g id=\"patch_89\">\r\n    <path clip-path=\"url(#p4861b9f6bd)\" d=\"M 245.303882 224.64 \r\nL 250.121795 224.64 \r\nL 250.121795 223.106032 \r\nL 245.303882 223.106032 \r\nz\r\n\" style=\"fill:#ff7f0e;opacity:0.4;\"/>\r\n   </g>\r\n   <g id=\"patch_90\">\r\n    <path clip-path=\"url(#p4861b9f6bd)\" d=\"M 250.121795 224.64 \r\nL 254.939707 224.64 \r\nL 254.939707 222.339048 \r\nL 250.121795 222.339048 \r\nz\r\n\" style=\"fill:#ff7f0e;opacity:0.4;\"/>\r\n   </g>\r\n   <g id=\"patch_91\">\r\n    <path clip-path=\"url(#p4861b9f6bd)\" d=\"M 254.939707 224.64 \r\nL 259.75762 224.64 \r\nL 259.75762 223.873016 \r\nL 254.939707 223.873016 \r\nz\r\n\" style=\"fill:#ff7f0e;opacity:0.4;\"/>\r\n   </g>\r\n   <g id=\"patch_92\">\r\n    <path clip-path=\"url(#p4861b9f6bd)\" d=\"M 259.75762 224.64 \r\nL 264.575532 224.64 \r\nL 264.575532 224.64 \r\nL 259.75762 224.64 \r\nz\r\n\" style=\"fill:#ff7f0e;opacity:0.4;\"/>\r\n   </g>\r\n   <g id=\"patch_93\">\r\n    <path clip-path=\"url(#p4861b9f6bd)\" d=\"M 264.575532 224.64 \r\nL 269.393445 224.64 \r\nL 269.393445 224.64 \r\nL 264.575532 224.64 \r\nz\r\n\" style=\"fill:#ff7f0e;opacity:0.4;\"/>\r\n   </g>\r\n   <g id=\"patch_94\">\r\n    <path clip-path=\"url(#p4861b9f6bd)\" d=\"M 269.393445 224.64 \r\nL 274.211357 224.64 \r\nL 274.211357 224.64 \r\nL 269.393445 224.64 \r\nz\r\n\" style=\"fill:#ff7f0e;opacity:0.4;\"/>\r\n   </g>\r\n   <g id=\"patch_95\">\r\n    <path clip-path=\"url(#p4861b9f6bd)\" d=\"M 274.211357 224.64 \r\nL 279.02927 224.64 \r\nL 279.02927 224.64 \r\nL 274.211357 224.64 \r\nz\r\n\" style=\"fill:#ff7f0e;opacity:0.4;\"/>\r\n   </g>\r\n   <g id=\"patch_96\">\r\n    <path clip-path=\"url(#p4861b9f6bd)\" d=\"M 279.02927 224.64 \r\nL 283.847182 224.64 \r\nL 283.847182 224.64 \r\nL 279.02927 224.64 \r\nz\r\n\" style=\"fill:#ff7f0e;opacity:0.4;\"/>\r\n   </g>\r\n   <g id=\"patch_97\">\r\n    <path clip-path=\"url(#p4861b9f6bd)\" d=\"M 283.847182 224.64 \r\nL 288.665094 224.64 \r\nL 288.665094 224.64 \r\nL 283.847182 224.64 \r\nz\r\n\" style=\"fill:#ff7f0e;opacity:0.4;\"/>\r\n   </g>\r\n   <g id=\"patch_98\">\r\n    <path clip-path=\"url(#p4861b9f6bd)\" d=\"M 288.665094 224.64 \r\nL 293.483007 224.64 \r\nL 293.483007 224.64 \r\nL 288.665094 224.64 \r\nz\r\n\" style=\"fill:#ff7f0e;opacity:0.4;\"/>\r\n   </g>\r\n   <g id=\"patch_99\">\r\n    <path clip-path=\"url(#p4861b9f6bd)\" d=\"M 293.483007 224.64 \r\nL 298.300919 224.64 \r\nL 298.300919 223.873016 \r\nL 293.483007 223.873016 \r\nz\r\n\" style=\"fill:#ff7f0e;opacity:0.4;\"/>\r\n   </g>\r\n   <g id=\"matplotlib.axis_1\">\r\n    <g id=\"xtick_1\">\r\n     <g id=\"line2d_1\">\r\n      <defs>\r\n       <path d=\"M 0 0 \r\nL 0 3.5 \r\n\" id=\"mfbc6b84048\" style=\"stroke:#000000;stroke-width:0.8;\"/>\r\n      </defs>\r\n      <g>\r\n       <use style=\"stroke:#000000;stroke-width:0.8;\" x=\"71.634499\" xlink:href=\"#mfbc6b84048\" y=\"224.64\"/>\r\n      </g>\r\n     </g>\r\n     <g id=\"text_1\">\r\n      <!-- 8 -->\r\n      <defs>\r\n       <path d=\"M 31.78125 34.625 \r\nQ 24.75 34.625 20.71875 30.859375 \r\nQ 16.703125 27.09375 16.703125 20.515625 \r\nQ 16.703125 13.921875 20.71875 10.15625 \r\nQ 24.75 6.390625 31.78125 6.390625 \r\nQ 38.8125 6.390625 42.859375 10.171875 \r\nQ 46.921875 13.96875 46.921875 20.515625 \r\nQ 46.921875 27.09375 42.890625 30.859375 \r\nQ 38.875 34.625 31.78125 34.625 \r\nz\r\nM 21.921875 38.8125 \r\nQ 15.578125 40.375 12.03125 44.71875 \r\nQ 8.5 49.078125 8.5 55.328125 \r\nQ 8.5 64.0625 14.71875 69.140625 \r\nQ 20.953125 74.21875 31.78125 74.21875 \r\nQ 42.671875 74.21875 48.875 69.140625 \r\nQ 55.078125 64.0625 55.078125 55.328125 \r\nQ 55.078125 49.078125 51.53125 44.71875 \r\nQ 48 40.375 41.703125 38.8125 \r\nQ 48.828125 37.15625 52.796875 32.3125 \r\nQ 56.78125 27.484375 56.78125 20.515625 \r\nQ 56.78125 9.90625 50.3125 4.234375 \r\nQ 43.84375 -1.421875 31.78125 -1.421875 \r\nQ 19.734375 -1.421875 13.25 4.234375 \r\nQ 6.78125 9.90625 6.78125 20.515625 \r\nQ 6.78125 27.484375 10.78125 32.3125 \r\nQ 14.796875 37.15625 21.921875 38.8125 \r\nz\r\nM 18.3125 54.390625 \r\nQ 18.3125 48.734375 21.84375 45.5625 \r\nQ 25.390625 42.390625 31.78125 42.390625 \r\nQ 38.140625 42.390625 41.71875 45.5625 \r\nQ 45.3125 48.734375 45.3125 54.390625 \r\nQ 45.3125 60.0625 41.71875 63.234375 \r\nQ 38.140625 66.40625 31.78125 66.40625 \r\nQ 25.390625 66.40625 21.84375 63.234375 \r\nQ 18.3125 60.0625 18.3125 54.390625 \r\nz\r\n\" id=\"DejaVuSans-56\"/>\r\n      </defs>\r\n      <g transform=\"translate(68.453249 239.238438)scale(0.1 -0.1)\">\r\n       <use xlink:href=\"#DejaVuSans-56\"/>\r\n      </g>\r\n     </g>\r\n    </g>\r\n    <g id=\"xtick_2\">\r\n     <g id=\"line2d_2\">\r\n      <g>\r\n       <use style=\"stroke:#000000;stroke-width:0.8;\" x=\"143.030814\" xlink:href=\"#mfbc6b84048\" y=\"224.64\"/>\r\n      </g>\r\n     </g>\r\n     <g id=\"text_2\">\r\n      <!-- 10 -->\r\n      <defs>\r\n       <path d=\"M 12.40625 8.296875 \r\nL 28.515625 8.296875 \r\nL 28.515625 63.921875 \r\nL 10.984375 60.40625 \r\nL 10.984375 69.390625 \r\nL 28.421875 72.90625 \r\nL 38.28125 72.90625 \r\nL 38.28125 8.296875 \r\nL 54.390625 8.296875 \r\nL 54.390625 0 \r\nL 12.40625 0 \r\nz\r\n\" id=\"DejaVuSans-49\"/>\r\n       <path d=\"M 31.78125 66.40625 \r\nQ 24.171875 66.40625 20.328125 58.90625 \r\nQ 16.5 51.421875 16.5 36.375 \r\nQ 16.5 21.390625 20.328125 13.890625 \r\nQ 24.171875 6.390625 31.78125 6.390625 \r\nQ 39.453125 6.390625 43.28125 13.890625 \r\nQ 47.125 21.390625 47.125 36.375 \r\nQ 47.125 51.421875 43.28125 58.90625 \r\nQ 39.453125 66.40625 31.78125 66.40625 \r\nz\r\nM 31.78125 74.21875 \r\nQ 44.046875 74.21875 50.515625 64.515625 \r\nQ 56.984375 54.828125 56.984375 36.375 \r\nQ 56.984375 17.96875 50.515625 8.265625 \r\nQ 44.046875 -1.421875 31.78125 -1.421875 \r\nQ 19.53125 -1.421875 13.0625 8.265625 \r\nQ 6.59375 17.96875 6.59375 36.375 \r\nQ 6.59375 54.828125 13.0625 64.515625 \r\nQ 19.53125 74.21875 31.78125 74.21875 \r\nz\r\n\" id=\"DejaVuSans-48\"/>\r\n      </defs>\r\n      <g transform=\"translate(136.668314 239.238438)scale(0.1 -0.1)\">\r\n       <use xlink:href=\"#DejaVuSans-49\"/>\r\n       <use x=\"63.623047\" xlink:href=\"#DejaVuSans-48\"/>\r\n      </g>\r\n     </g>\r\n    </g>\r\n    <g id=\"xtick_3\">\r\n     <g id=\"line2d_3\">\r\n      <g>\r\n       <use style=\"stroke:#000000;stroke-width:0.8;\" x=\"214.427128\" xlink:href=\"#mfbc6b84048\" y=\"224.64\"/>\r\n      </g>\r\n     </g>\r\n     <g id=\"text_3\">\r\n      <!-- 12 -->\r\n      <defs>\r\n       <path d=\"M 19.1875 8.296875 \r\nL 53.609375 8.296875 \r\nL 53.609375 0 \r\nL 7.328125 0 \r\nL 7.328125 8.296875 \r\nQ 12.9375 14.109375 22.625 23.890625 \r\nQ 32.328125 33.6875 34.8125 36.53125 \r\nQ 39.546875 41.84375 41.421875 45.53125 \r\nQ 43.3125 49.21875 43.3125 52.78125 \r\nQ 43.3125 58.59375 39.234375 62.25 \r\nQ 35.15625 65.921875 28.609375 65.921875 \r\nQ 23.96875 65.921875 18.8125 64.3125 \r\nQ 13.671875 62.703125 7.8125 59.421875 \r\nL 7.8125 69.390625 \r\nQ 13.765625 71.78125 18.9375 73 \r\nQ 24.125 74.21875 28.421875 74.21875 \r\nQ 39.75 74.21875 46.484375 68.546875 \r\nQ 53.21875 62.890625 53.21875 53.421875 \r\nQ 53.21875 48.921875 51.53125 44.890625 \r\nQ 49.859375 40.875 45.40625 35.40625 \r\nQ 44.1875 33.984375 37.640625 27.21875 \r\nQ 31.109375 20.453125 19.1875 8.296875 \r\nz\r\n\" id=\"DejaVuSans-50\"/>\r\n      </defs>\r\n      <g transform=\"translate(208.064628 239.238438)scale(0.1 -0.1)\">\r\n       <use xlink:href=\"#DejaVuSans-49\"/>\r\n       <use x=\"63.623047\" xlink:href=\"#DejaVuSans-50\"/>\r\n      </g>\r\n     </g>\r\n    </g>\r\n    <g id=\"xtick_4\">\r\n     <g id=\"line2d_4\">\r\n      <g>\r\n       <use style=\"stroke:#000000;stroke-width:0.8;\" x=\"285.823443\" xlink:href=\"#mfbc6b84048\" y=\"224.64\"/>\r\n      </g>\r\n     </g>\r\n     <g id=\"text_4\">\r\n      <!-- 14 -->\r\n      <defs>\r\n       <path d=\"M 37.796875 64.3125 \r\nL 12.890625 25.390625 \r\nL 37.796875 25.390625 \r\nz\r\nM 35.203125 72.90625 \r\nL 47.609375 72.90625 \r\nL 47.609375 25.390625 \r\nL 58.015625 25.390625 \r\nL 58.015625 17.1875 \r\nL 47.609375 17.1875 \r\nL 47.609375 0 \r\nL 37.796875 0 \r\nL 37.796875 17.1875 \r\nL 4.890625 17.1875 \r\nL 4.890625 26.703125 \r\nz\r\n\" id=\"DejaVuSans-52\"/>\r\n      </defs>\r\n      <g transform=\"translate(279.460943 239.238438)scale(0.1 -0.1)\">\r\n       <use xlink:href=\"#DejaVuSans-49\"/>\r\n       <use x=\"63.623047\" xlink:href=\"#DejaVuSans-52\"/>\r\n      </g>\r\n     </g>\r\n    </g>\r\n    <g id=\"xtick_5\">\r\n     <g id=\"line2d_5\">\r\n      <g>\r\n       <use style=\"stroke:#000000;stroke-width:0.8;\" x=\"357.219758\" xlink:href=\"#mfbc6b84048\" y=\"224.64\"/>\r\n      </g>\r\n     </g>\r\n     <g id=\"text_5\">\r\n      <!-- 16 -->\r\n      <defs>\r\n       <path d=\"M 33.015625 40.375 \r\nQ 26.375 40.375 22.484375 35.828125 \r\nQ 18.609375 31.296875 18.609375 23.390625 \r\nQ 18.609375 15.53125 22.484375 10.953125 \r\nQ 26.375 6.390625 33.015625 6.390625 \r\nQ 39.65625 6.390625 43.53125 10.953125 \r\nQ 47.40625 15.53125 47.40625 23.390625 \r\nQ 47.40625 31.296875 43.53125 35.828125 \r\nQ 39.65625 40.375 33.015625 40.375 \r\nz\r\nM 52.59375 71.296875 \r\nL 52.59375 62.3125 \r\nQ 48.875 64.0625 45.09375 64.984375 \r\nQ 41.3125 65.921875 37.59375 65.921875 \r\nQ 27.828125 65.921875 22.671875 59.328125 \r\nQ 17.53125 52.734375 16.796875 39.40625 \r\nQ 19.671875 43.65625 24.015625 45.921875 \r\nQ 28.375 48.1875 33.59375 48.1875 \r\nQ 44.578125 48.1875 50.953125 41.515625 \r\nQ 57.328125 34.859375 57.328125 23.390625 \r\nQ 57.328125 12.15625 50.6875 5.359375 \r\nQ 44.046875 -1.421875 33.015625 -1.421875 \r\nQ 20.359375 -1.421875 13.671875 8.265625 \r\nQ 6.984375 17.96875 6.984375 36.375 \r\nQ 6.984375 53.65625 15.1875 63.9375 \r\nQ 23.390625 74.21875 37.203125 74.21875 \r\nQ 40.921875 74.21875 44.703125 73.484375 \r\nQ 48.484375 72.75 52.59375 71.296875 \r\nz\r\n\" id=\"DejaVuSans-54\"/>\r\n      </defs>\r\n      <g transform=\"translate(350.857258 239.238438)scale(0.1 -0.1)\">\r\n       <use xlink:href=\"#DejaVuSans-49\"/>\r\n       <use x=\"63.623047\" xlink:href=\"#DejaVuSans-54\"/>\r\n      </g>\r\n     </g>\r\n    </g>\r\n   </g>\r\n   <g id=\"matplotlib.axis_2\">\r\n    <g id=\"ytick_1\">\r\n     <g id=\"line2d_6\">\r\n      <defs>\r\n       <path d=\"M 0 0 \r\nL -3.5 0 \r\n\" id=\"m35fd345962\" style=\"stroke:#000000;stroke-width:0.8;\"/>\r\n      </defs>\r\n      <g>\r\n       <use style=\"stroke:#000000;stroke-width:0.8;\" x=\"30.103125\" xlink:href=\"#m35fd345962\" y=\"224.64\"/>\r\n      </g>\r\n     </g>\r\n     <g id=\"text_6\">\r\n      <!-- 0.0 -->\r\n      <defs>\r\n       <path d=\"M 10.6875 12.40625 \r\nL 21 12.40625 \r\nL 21 0 \r\nL 10.6875 0 \r\nz\r\n\" id=\"DejaVuSans-46\"/>\r\n      </defs>\r\n      <g transform=\"translate(7.2 228.439219)scale(0.1 -0.1)\">\r\n       <use xlink:href=\"#DejaVuSans-48\"/>\r\n       <use x=\"63.623047\" xlink:href=\"#DejaVuSans-46\"/>\r\n       <use x=\"95.410156\" xlink:href=\"#DejaVuSans-48\"/>\r\n      </g>\r\n     </g>\r\n    </g>\r\n    <g id=\"ytick_2\">\r\n     <g id=\"line2d_7\">\r\n      <g>\r\n       <use style=\"stroke:#000000;stroke-width:0.8;\" x=\"30.103125\" xlink:href=\"#m35fd345962\" y=\"199.972592\"/>\r\n      </g>\r\n     </g>\r\n     <g id=\"text_7\">\r\n      <!-- 0.1 -->\r\n      <g transform=\"translate(7.2 203.77181)scale(0.1 -0.1)\">\r\n       <use xlink:href=\"#DejaVuSans-48\"/>\r\n       <use x=\"63.623047\" xlink:href=\"#DejaVuSans-46\"/>\r\n       <use x=\"95.410156\" xlink:href=\"#DejaVuSans-49\"/>\r\n      </g>\r\n     </g>\r\n    </g>\r\n    <g id=\"ytick_3\">\r\n     <g id=\"line2d_8\">\r\n      <g>\r\n       <use style=\"stroke:#000000;stroke-width:0.8;\" x=\"30.103125\" xlink:href=\"#m35fd345962\" y=\"175.305183\"/>\r\n      </g>\r\n     </g>\r\n     <g id=\"text_8\">\r\n      <!-- 0.2 -->\r\n      <g transform=\"translate(7.2 179.104402)scale(0.1 -0.1)\">\r\n       <use xlink:href=\"#DejaVuSans-48\"/>\r\n       <use x=\"63.623047\" xlink:href=\"#DejaVuSans-46\"/>\r\n       <use x=\"95.410156\" xlink:href=\"#DejaVuSans-50\"/>\r\n      </g>\r\n     </g>\r\n    </g>\r\n    <g id=\"ytick_4\">\r\n     <g id=\"line2d_9\">\r\n      <g>\r\n       <use style=\"stroke:#000000;stroke-width:0.8;\" x=\"30.103125\" xlink:href=\"#m35fd345962\" y=\"150.637775\"/>\r\n      </g>\r\n     </g>\r\n     <g id=\"text_9\">\r\n      <!-- 0.3 -->\r\n      <defs>\r\n       <path d=\"M 40.578125 39.3125 \r\nQ 47.65625 37.796875 51.625 33 \r\nQ 55.609375 28.21875 55.609375 21.1875 \r\nQ 55.609375 10.40625 48.1875 4.484375 \r\nQ 40.765625 -1.421875 27.09375 -1.421875 \r\nQ 22.515625 -1.421875 17.65625 -0.515625 \r\nQ 12.796875 0.390625 7.625 2.203125 \r\nL 7.625 11.71875 \r\nQ 11.71875 9.328125 16.59375 8.109375 \r\nQ 21.484375 6.890625 26.8125 6.890625 \r\nQ 36.078125 6.890625 40.9375 10.546875 \r\nQ 45.796875 14.203125 45.796875 21.1875 \r\nQ 45.796875 27.640625 41.28125 31.265625 \r\nQ 36.765625 34.90625 28.71875 34.90625 \r\nL 20.21875 34.90625 \r\nL 20.21875 43.015625 \r\nL 29.109375 43.015625 \r\nQ 36.375 43.015625 40.234375 45.921875 \r\nQ 44.09375 48.828125 44.09375 54.296875 \r\nQ 44.09375 59.90625 40.109375 62.90625 \r\nQ 36.140625 65.921875 28.71875 65.921875 \r\nQ 24.65625 65.921875 20.015625 65.03125 \r\nQ 15.375 64.15625 9.8125 62.3125 \r\nL 9.8125 71.09375 \r\nQ 15.4375 72.65625 20.34375 73.4375 \r\nQ 25.25 74.21875 29.59375 74.21875 \r\nQ 40.828125 74.21875 47.359375 69.109375 \r\nQ 53.90625 64.015625 53.90625 55.328125 \r\nQ 53.90625 49.265625 50.4375 45.09375 \r\nQ 46.96875 40.921875 40.578125 39.3125 \r\nz\r\n\" id=\"DejaVuSans-51\"/>\r\n      </defs>\r\n      <g transform=\"translate(7.2 154.436994)scale(0.1 -0.1)\">\r\n       <use xlink:href=\"#DejaVuSans-48\"/>\r\n       <use x=\"63.623047\" xlink:href=\"#DejaVuSans-46\"/>\r\n       <use x=\"95.410156\" xlink:href=\"#DejaVuSans-51\"/>\r\n      </g>\r\n     </g>\r\n    </g>\r\n    <g id=\"ytick_5\">\r\n     <g id=\"line2d_10\">\r\n      <g>\r\n       <use style=\"stroke:#000000;stroke-width:0.8;\" x=\"30.103125\" xlink:href=\"#m35fd345962\" y=\"125.970367\"/>\r\n      </g>\r\n     </g>\r\n     <g id=\"text_10\">\r\n      <!-- 0.4 -->\r\n      <g transform=\"translate(7.2 129.769585)scale(0.1 -0.1)\">\r\n       <use xlink:href=\"#DejaVuSans-48\"/>\r\n       <use x=\"63.623047\" xlink:href=\"#DejaVuSans-46\"/>\r\n       <use x=\"95.410156\" xlink:href=\"#DejaVuSans-52\"/>\r\n      </g>\r\n     </g>\r\n    </g>\r\n    <g id=\"ytick_6\">\r\n     <g id=\"line2d_11\">\r\n      <g>\r\n       <use style=\"stroke:#000000;stroke-width:0.8;\" x=\"30.103125\" xlink:href=\"#m35fd345962\" y=\"101.302958\"/>\r\n      </g>\r\n     </g>\r\n     <g id=\"text_11\">\r\n      <!-- 0.5 -->\r\n      <defs>\r\n       <path d=\"M 10.796875 72.90625 \r\nL 49.515625 72.90625 \r\nL 49.515625 64.59375 \r\nL 19.828125 64.59375 \r\nL 19.828125 46.734375 \r\nQ 21.96875 47.46875 24.109375 47.828125 \r\nQ 26.265625 48.1875 28.421875 48.1875 \r\nQ 40.625 48.1875 47.75 41.5 \r\nQ 54.890625 34.8125 54.890625 23.390625 \r\nQ 54.890625 11.625 47.5625 5.09375 \r\nQ 40.234375 -1.421875 26.90625 -1.421875 \r\nQ 22.3125 -1.421875 17.546875 -0.640625 \r\nQ 12.796875 0.140625 7.71875 1.703125 \r\nL 7.71875 11.625 \r\nQ 12.109375 9.234375 16.796875 8.0625 \r\nQ 21.484375 6.890625 26.703125 6.890625 \r\nQ 35.15625 6.890625 40.078125 11.328125 \r\nQ 45.015625 15.765625 45.015625 23.390625 \r\nQ 45.015625 31 40.078125 35.4375 \r\nQ 35.15625 39.890625 26.703125 39.890625 \r\nQ 22.75 39.890625 18.8125 39.015625 \r\nQ 14.890625 38.140625 10.796875 36.28125 \r\nz\r\n\" id=\"DejaVuSans-53\"/>\r\n      </defs>\r\n      <g transform=\"translate(7.2 105.102177)scale(0.1 -0.1)\">\r\n       <use xlink:href=\"#DejaVuSans-48\"/>\r\n       <use x=\"63.623047\" xlink:href=\"#DejaVuSans-46\"/>\r\n       <use x=\"95.410156\" xlink:href=\"#DejaVuSans-53\"/>\r\n      </g>\r\n     </g>\r\n    </g>\r\n    <g id=\"ytick_7\">\r\n     <g id=\"line2d_12\">\r\n      <g>\r\n       <use style=\"stroke:#000000;stroke-width:0.8;\" x=\"30.103125\" xlink:href=\"#m35fd345962\" y=\"76.63555\"/>\r\n      </g>\r\n     </g>\r\n     <g id=\"text_12\">\r\n      <!-- 0.6 -->\r\n      <g transform=\"translate(7.2 80.434769)scale(0.1 -0.1)\">\r\n       <use xlink:href=\"#DejaVuSans-48\"/>\r\n       <use x=\"63.623047\" xlink:href=\"#DejaVuSans-46\"/>\r\n       <use x=\"95.410156\" xlink:href=\"#DejaVuSans-54\"/>\r\n      </g>\r\n     </g>\r\n    </g>\r\n    <g id=\"ytick_8\">\r\n     <g id=\"line2d_13\">\r\n      <g>\r\n       <use style=\"stroke:#000000;stroke-width:0.8;\" x=\"30.103125\" xlink:href=\"#m35fd345962\" y=\"51.968142\"/>\r\n      </g>\r\n     </g>\r\n     <g id=\"text_13\">\r\n      <!-- 0.7 -->\r\n      <defs>\r\n       <path d=\"M 8.203125 72.90625 \r\nL 55.078125 72.90625 \r\nL 55.078125 68.703125 \r\nL 28.609375 0 \r\nL 18.3125 0 \r\nL 43.21875 64.59375 \r\nL 8.203125 64.59375 \r\nz\r\n\" id=\"DejaVuSans-55\"/>\r\n      </defs>\r\n      <g transform=\"translate(7.2 55.76736)scale(0.1 -0.1)\">\r\n       <use xlink:href=\"#DejaVuSans-48\"/>\r\n       <use x=\"63.623047\" xlink:href=\"#DejaVuSans-46\"/>\r\n       <use x=\"95.410156\" xlink:href=\"#DejaVuSans-55\"/>\r\n      </g>\r\n     </g>\r\n    </g>\r\n    <g id=\"ytick_9\">\r\n     <g id=\"line2d_14\">\r\n      <g>\r\n       <use style=\"stroke:#000000;stroke-width:0.8;\" x=\"30.103125\" xlink:href=\"#m35fd345962\" y=\"27.300733\"/>\r\n      </g>\r\n     </g>\r\n     <g id=\"text_14\">\r\n      <!-- 0.8 -->\r\n      <g transform=\"translate(7.2 31.099952)scale(0.1 -0.1)\">\r\n       <use xlink:href=\"#DejaVuSans-48\"/>\r\n       <use x=\"63.623047\" xlink:href=\"#DejaVuSans-46\"/>\r\n       <use x=\"95.410156\" xlink:href=\"#DejaVuSans-56\"/>\r\n      </g>\r\n     </g>\r\n    </g>\r\n   </g>\r\n   <g id=\"line2d_15\">\r\n    <path clip-path=\"url(#p4861b9f6bd)\" d=\"M 76.103361 224.62234 \r\nL 80.411732 224.488942 \r\nL 82.565918 224.264078 \r\nL 84.720103 223.808637 \r\nL 86.874289 222.994664 \r\nL 89.028475 221.69654 \r\nL 91.18266 219.816069 \r\nL 93.336846 217.279055 \r\nL 95.491032 214.000051 \r\nL 97.645218 209.849744 \r\nL 99.799403 204.662749 \r\nL 101.953589 198.275502 \r\nL 104.107775 190.547516 \r\nL 106.26196 181.363463 \r\nL 108.416146 170.689196 \r\nL 110.570332 158.725571 \r\nL 114.878703 133.585092 \r\nL 117.032889 122.286561 \r\nL 119.187074 112.881745 \r\nL 121.34126 105.753642 \r\nL 123.495446 101.019391 \r\nL 125.649631 98.569257 \r\nL 127.803817 97.97932 \r\nL 132.112189 98.916763 \r\nL 134.266374 98.441511 \r\nL 136.42056 96.546362 \r\nL 138.574746 93.479541 \r\nL 140.728931 90.149027 \r\nL 142.883117 87.707548 \r\nL 145.037303 86.976134 \r\nL 147.191488 88.112238 \r\nL 149.345674 90.785848 \r\nL 151.49986 94.659422 \r\nL 153.654045 99.678738 \r\nL 155.808231 105.92921 \r\nL 157.962417 113.298692 \r\nL 164.424974 137.086348 \r\nL 166.57916 144.080497 \r\nL 173.041717 163.817986 \r\nL 179.504274 186.544651 \r\nL 181.658459 192.925204 \r\nL 183.812645 197.771655 \r\nL 185.966831 201.102299 \r\nL 188.121016 203.268453 \r\nL 190.275202 204.685455 \r\nL 192.429388 205.642112 \r\nL 194.583574 206.290458 \r\nL 198.891945 207.230855 \r\nL 201.046131 207.976624 \r\nL 203.200316 209.198144 \r\nL 205.354502 210.900485 \r\nL 207.508688 212.831814 \r\nL 209.662873 214.588969 \r\nL 211.817059 215.828089 \r\nL 213.971245 216.434552 \r\nL 216.12543 216.54411 \r\nL 220.433802 216.336117 \r\nL 222.587988 216.404433 \r\nL 226.896359 216.966621 \r\nL 235.513102 218.39922 \r\nL 250.592401 221.367513 \r\nL 254.900773 222.16406 \r\nL 257.054959 222.44893 \r\nL 259.209144 222.576604 \r\nL 265.671701 222.518344 \r\nL 267.825887 222.694855 \r\nL 272.134258 223.44483 \r\nL 276.44263 224.125199 \r\nL 280.751001 224.356529 \r\nL 291.52193 224.492475 \r\nL 300.138672 224.630236 \r\nL 321.680529 224.599525 \r\nL 336.759829 224.44084 \r\nL 347.530757 224.63038 \r\nL 349.684943 224.632433 \r\nL 349.684943 224.632433 \r\n\" style=\"fill:none;stroke:#1f77b4;stroke-linecap:square;stroke-width:1.5;\"/>\r\n   </g>\r\n   <g id=\"line2d_16\">\r\n    <path clip-path=\"url(#p4861b9f6bd)\" d=\"M 45.321307 223.680791 \r\nL 47.408422 220.831237 \r\nL 49.495537 212.875884 \r\nL 51.582652 196.420833 \r\nL 55.756882 148.634474 \r\nL 57.843997 138.843778 \r\nL 59.931112 148.102452 \r\nL 64.105342 189.257641 \r\nL 66.192457 202.368026 \r\nL 68.279572 208.772582 \r\nL 70.366687 211.471227 \r\nL 72.453802 212.772866 \r\nL 74.540917 213.836064 \r\nL 76.628032 215.101581 \r\nL 82.889376 219.611542 \r\nL 84.976491 220.691981 \r\nL 87.063606 221.28141 \r\nL 89.150721 221.43575 \r\nL 91.237836 221.440577 \r\nL 93.324951 221.630368 \r\nL 95.412066 222.144645 \r\nL 99.586296 223.431008 \r\nL 101.673411 223.697922 \r\nL 103.760526 223.643064 \r\nL 107.934756 223.29801 \r\nL 114.196101 223.339883 \r\nL 116.283216 222.777988 \r\nL 118.370331 221.324209 \r\nL 120.457446 218.550893 \r\nL 122.544561 214.079043 \r\nL 124.631676 207.725334 \r\nL 126.718791 199.692181 \r\nL 128.805906 190.586578 \r\nL 130.893021 180.98055 \r\nL 132.980136 170.709601 \r\nL 135.067251 158.71254 \r\nL 137.154366 143.890627 \r\nL 139.241481 126.19479 \r\nL 145.502826 67.666985 \r\nL 147.589941 50.830323 \r\nL 149.677056 37.736696 \r\nL 151.764171 29.253694 \r\nL 153.851286 25.506611 \r\nL 155.938401 26.493216 \r\nL 158.025516 32.191805 \r\nL 160.112631 41.971296 \r\nL 162.199746 54.517925 \r\nL 164.286861 68.626207 \r\nL 166.373976 83.790126 \r\nL 172.635321 132.349716 \r\nL 174.722436 146.872416 \r\nL 176.809551 158.747834 \r\nL 178.896666 167.528904 \r\nL 180.98378 173.994221 \r\nL 183.070895 179.470967 \r\nL 185.15801 184.629992 \r\nL 187.245125 189.303571 \r\nL 189.33224 193.310279 \r\nL 197.6807 207.745776 \r\nL 199.767815 210.755113 \r\nL 201.85493 213.131993 \r\nL 203.942045 214.832757 \r\nL 206.02916 215.963192 \r\nL 210.20339 217.444384 \r\nL 212.290505 217.990309 \r\nL 214.37762 218.056689 \r\nL 216.464735 217.258097 \r\nL 218.55185 215.614969 \r\nL 220.638965 213.756215 \r\nL 222.72608 212.616966 \r\nL 224.813195 212.825131 \r\nL 226.90031 214.260089 \r\nL 228.987425 216.147814 \r\nL 231.07454 217.634667 \r\nL 233.161655 218.378107 \r\nL 237.335885 219.076047 \r\nL 239.423 219.890566 \r\nL 243.59723 221.985425 \r\nL 245.684345 222.573405 \r\nL 247.77146 222.739208 \r\nL 251.94569 222.783311 \r\nL 254.032805 223.030616 \r\nL 260.29415 224.129942 \r\nL 264.46838 224.526721 \r\nL 268.64261 224.629325 \r\nL 289.513759 224.60544 \r\nL 299.949334 224.306303 \r\nL 308.297794 224.593646 \r\nL 310.384909 224.447976 \r\nL 310.384909 224.447976 \r\n\" style=\"fill:none;stroke:#ff7f0e;stroke-linecap:square;stroke-width:1.5;\"/>\r\n   </g>\r\n   <g id=\"patch_100\">\r\n    <path d=\"M 30.103125 224.64 \r\nL 30.103125 7.2 \r\n\" style=\"fill:none;stroke:#000000;stroke-linecap:square;stroke-linejoin:miter;stroke-width:0.8;\"/>\r\n   </g>\r\n   <g id=\"patch_101\">\r\n    <path d=\"M 364.903125 224.64 \r\nL 364.903125 7.2 \r\n\" style=\"fill:none;stroke:#000000;stroke-linecap:square;stroke-linejoin:miter;stroke-width:0.8;\"/>\r\n   </g>\r\n   <g id=\"patch_102\">\r\n    <path d=\"M 30.103125 224.64 \r\nL 364.903125 224.64 \r\n\" style=\"fill:none;stroke:#000000;stroke-linecap:square;stroke-linejoin:miter;stroke-width:0.8;\"/>\r\n   </g>\r\n   <g id=\"patch_103\">\r\n    <path d=\"M 30.103125 7.2 \r\nL 364.903125 7.2 \r\n\" style=\"fill:none;stroke:#000000;stroke-linecap:square;stroke-linejoin:miter;stroke-width:0.8;\"/>\r\n   </g>\r\n   <g id=\"legend_1\">\r\n    <g id=\"patch_104\">\r\n     <path d=\"M 273.373438 44.55625 \r\nL 357.903125 44.55625 \r\nQ 359.903125 44.55625 359.903125 42.55625 \r\nL 359.903125 14.2 \r\nQ 359.903125 12.2 357.903125 12.2 \r\nL 273.373438 12.2 \r\nQ 271.373438 12.2 271.373438 14.2 \r\nL 271.373438 42.55625 \r\nQ 271.373438 44.55625 273.373438 44.55625 \r\nz\r\n\" style=\"fill:#ffffff;opacity:0.8;stroke:#cccccc;stroke-linejoin:miter;\"/>\r\n    </g>\r\n    <g id=\"patch_105\">\r\n     <path d=\"M 275.373438 23.798437 \r\nL 295.373438 23.798437 \r\nL 295.373438 16.798437 \r\nL 275.373438 16.798437 \r\nz\r\n\" style=\"fill:#1f77b4;opacity:0.4;\"/>\r\n    </g>\r\n    <g id=\"text_15\">\r\n     <!-- pred -->\r\n     <defs>\r\n      <path d=\"M 18.109375 8.203125 \r\nL 18.109375 -20.796875 \r\nL 9.078125 -20.796875 \r\nL 9.078125 54.6875 \r\nL 18.109375 54.6875 \r\nL 18.109375 46.390625 \r\nQ 20.953125 51.265625 25.265625 53.625 \r\nQ 29.59375 56 35.59375 56 \r\nQ 45.5625 56 51.78125 48.09375 \r\nQ 58.015625 40.1875 58.015625 27.296875 \r\nQ 58.015625 14.40625 51.78125 6.484375 \r\nQ 45.5625 -1.421875 35.59375 -1.421875 \r\nQ 29.59375 -1.421875 25.265625 0.953125 \r\nQ 20.953125 3.328125 18.109375 8.203125 \r\nz\r\nM 48.6875 27.296875 \r\nQ 48.6875 37.203125 44.609375 42.84375 \r\nQ 40.53125 48.484375 33.40625 48.484375 \r\nQ 26.265625 48.484375 22.1875 42.84375 \r\nQ 18.109375 37.203125 18.109375 27.296875 \r\nQ 18.109375 17.390625 22.1875 11.75 \r\nQ 26.265625 6.109375 33.40625 6.109375 \r\nQ 40.53125 6.109375 44.609375 11.75 \r\nQ 48.6875 17.390625 48.6875 27.296875 \r\nz\r\n\" id=\"DejaVuSans-112\"/>\r\n      <path d=\"M 41.109375 46.296875 \r\nQ 39.59375 47.171875 37.8125 47.578125 \r\nQ 36.03125 48 33.890625 48 \r\nQ 26.265625 48 22.1875 43.046875 \r\nQ 18.109375 38.09375 18.109375 28.8125 \r\nL 18.109375 0 \r\nL 9.078125 0 \r\nL 9.078125 54.6875 \r\nL 18.109375 54.6875 \r\nL 18.109375 46.1875 \r\nQ 20.953125 51.171875 25.484375 53.578125 \r\nQ 30.03125 56 36.53125 56 \r\nQ 37.453125 56 38.578125 55.875 \r\nQ 39.703125 55.765625 41.0625 55.515625 \r\nz\r\n\" id=\"DejaVuSans-114\"/>\r\n      <path d=\"M 56.203125 29.59375 \r\nL 56.203125 25.203125 \r\nL 14.890625 25.203125 \r\nQ 15.484375 15.921875 20.484375 11.0625 \r\nQ 25.484375 6.203125 34.421875 6.203125 \r\nQ 39.59375 6.203125 44.453125 7.46875 \r\nQ 49.3125 8.734375 54.109375 11.28125 \r\nL 54.109375 2.78125 \r\nQ 49.265625 0.734375 44.1875 -0.34375 \r\nQ 39.109375 -1.421875 33.890625 -1.421875 \r\nQ 20.796875 -1.421875 13.15625 6.1875 \r\nQ 5.515625 13.8125 5.515625 26.8125 \r\nQ 5.515625 40.234375 12.765625 48.109375 \r\nQ 20.015625 56 32.328125 56 \r\nQ 43.359375 56 49.78125 48.890625 \r\nQ 56.203125 41.796875 56.203125 29.59375 \r\nz\r\nM 47.21875 32.234375 \r\nQ 47.125 39.59375 43.09375 43.984375 \r\nQ 39.0625 48.390625 32.421875 48.390625 \r\nQ 24.90625 48.390625 20.390625 44.140625 \r\nQ 15.875 39.890625 15.1875 32.171875 \r\nz\r\n\" id=\"DejaVuSans-101\"/>\r\n      <path d=\"M 45.40625 46.390625 \r\nL 45.40625 75.984375 \r\nL 54.390625 75.984375 \r\nL 54.390625 0 \r\nL 45.40625 0 \r\nL 45.40625 8.203125 \r\nQ 42.578125 3.328125 38.25 0.953125 \r\nQ 33.9375 -1.421875 27.875 -1.421875 \r\nQ 17.96875 -1.421875 11.734375 6.484375 \r\nQ 5.515625 14.40625 5.515625 27.296875 \r\nQ 5.515625 40.1875 11.734375 48.09375 \r\nQ 17.96875 56 27.875 56 \r\nQ 33.9375 56 38.25 53.625 \r\nQ 42.578125 51.265625 45.40625 46.390625 \r\nz\r\nM 14.796875 27.296875 \r\nQ 14.796875 17.390625 18.875 11.75 \r\nQ 22.953125 6.109375 30.078125 6.109375 \r\nQ 37.203125 6.109375 41.296875 11.75 \r\nQ 45.40625 17.390625 45.40625 27.296875 \r\nQ 45.40625 37.203125 41.296875 42.84375 \r\nQ 37.203125 48.484375 30.078125 48.484375 \r\nQ 22.953125 48.484375 18.875 42.84375 \r\nQ 14.796875 37.203125 14.796875 27.296875 \r\nz\r\n\" id=\"DejaVuSans-100\"/>\r\n     </defs>\r\n     <g transform=\"translate(303.373438 23.798437)scale(0.1 -0.1)\">\r\n      <use xlink:href=\"#DejaVuSans-112\"/>\r\n      <use x=\"63.476562\" xlink:href=\"#DejaVuSans-114\"/>\r\n      <use x=\"102.339844\" xlink:href=\"#DejaVuSans-101\"/>\r\n      <use x=\"163.863281\" xlink:href=\"#DejaVuSans-100\"/>\r\n     </g>\r\n    </g>\r\n    <g id=\"patch_106\">\r\n     <path d=\"M 275.373438 38.476562 \r\nL 295.373438 38.476562 \r\nL 295.373438 31.476562 \r\nL 275.373438 31.476562 \r\nz\r\n\" style=\"fill:#ff7f0e;opacity:0.4;\"/>\r\n    </g>\r\n    <g id=\"text_16\">\r\n     <!-- real target -->\r\n     <defs>\r\n      <path d=\"M 34.28125 27.484375 \r\nQ 23.390625 27.484375 19.1875 25 \r\nQ 14.984375 22.515625 14.984375 16.5 \r\nQ 14.984375 11.71875 18.140625 8.90625 \r\nQ 21.296875 6.109375 26.703125 6.109375 \r\nQ 34.1875 6.109375 38.703125 11.40625 \r\nQ 43.21875 16.703125 43.21875 25.484375 \r\nL 43.21875 27.484375 \r\nz\r\nM 52.203125 31.203125 \r\nL 52.203125 0 \r\nL 43.21875 0 \r\nL 43.21875 8.296875 \r\nQ 40.140625 3.328125 35.546875 0.953125 \r\nQ 30.953125 -1.421875 24.3125 -1.421875 \r\nQ 15.921875 -1.421875 10.953125 3.296875 \r\nQ 6 8.015625 6 15.921875 \r\nQ 6 25.140625 12.171875 29.828125 \r\nQ 18.359375 34.515625 30.609375 34.515625 \r\nL 43.21875 34.515625 \r\nL 43.21875 35.40625 \r\nQ 43.21875 41.609375 39.140625 45 \r\nQ 35.0625 48.390625 27.6875 48.390625 \r\nQ 23 48.390625 18.546875 47.265625 \r\nQ 14.109375 46.140625 10.015625 43.890625 \r\nL 10.015625 52.203125 \r\nQ 14.9375 54.109375 19.578125 55.046875 \r\nQ 24.21875 56 28.609375 56 \r\nQ 40.484375 56 46.34375 49.84375 \r\nQ 52.203125 43.703125 52.203125 31.203125 \r\nz\r\n\" id=\"DejaVuSans-97\"/>\r\n      <path d=\"M 9.421875 75.984375 \r\nL 18.40625 75.984375 \r\nL 18.40625 0 \r\nL 9.421875 0 \r\nz\r\n\" id=\"DejaVuSans-108\"/>\r\n      <path id=\"DejaVuSans-32\"/>\r\n      <path d=\"M 18.3125 70.21875 \r\nL 18.3125 54.6875 \r\nL 36.8125 54.6875 \r\nL 36.8125 47.703125 \r\nL 18.3125 47.703125 \r\nL 18.3125 18.015625 \r\nQ 18.3125 11.328125 20.140625 9.421875 \r\nQ 21.96875 7.515625 27.59375 7.515625 \r\nL 36.8125 7.515625 \r\nL 36.8125 0 \r\nL 27.59375 0 \r\nQ 17.1875 0 13.234375 3.875 \r\nQ 9.28125 7.765625 9.28125 18.015625 \r\nL 9.28125 47.703125 \r\nL 2.6875 47.703125 \r\nL 2.6875 54.6875 \r\nL 9.28125 54.6875 \r\nL 9.28125 70.21875 \r\nz\r\n\" id=\"DejaVuSans-116\"/>\r\n      <path d=\"M 45.40625 27.984375 \r\nQ 45.40625 37.75 41.375 43.109375 \r\nQ 37.359375 48.484375 30.078125 48.484375 \r\nQ 22.859375 48.484375 18.828125 43.109375 \r\nQ 14.796875 37.75 14.796875 27.984375 \r\nQ 14.796875 18.265625 18.828125 12.890625 \r\nQ 22.859375 7.515625 30.078125 7.515625 \r\nQ 37.359375 7.515625 41.375 12.890625 \r\nQ 45.40625 18.265625 45.40625 27.984375 \r\nz\r\nM 54.390625 6.78125 \r\nQ 54.390625 -7.171875 48.1875 -13.984375 \r\nQ 42 -20.796875 29.203125 -20.796875 \r\nQ 24.46875 -20.796875 20.265625 -20.09375 \r\nQ 16.0625 -19.390625 12.109375 -17.921875 \r\nL 12.109375 -9.1875 \r\nQ 16.0625 -11.328125 19.921875 -12.34375 \r\nQ 23.78125 -13.375 27.78125 -13.375 \r\nQ 36.625 -13.375 41.015625 -8.765625 \r\nQ 45.40625 -4.15625 45.40625 5.171875 \r\nL 45.40625 9.625 \r\nQ 42.625 4.78125 38.28125 2.390625 \r\nQ 33.9375 0 27.875 0 \r\nQ 17.828125 0 11.671875 7.65625 \r\nQ 5.515625 15.328125 5.515625 27.984375 \r\nQ 5.515625 40.671875 11.671875 48.328125 \r\nQ 17.828125 56 27.875 56 \r\nQ 33.9375 56 38.28125 53.609375 \r\nQ 42.625 51.21875 45.40625 46.390625 \r\nL 45.40625 54.6875 \r\nL 54.390625 54.6875 \r\nz\r\n\" id=\"DejaVuSans-103\"/>\r\n     </defs>\r\n     <g transform=\"translate(303.373438 38.476562)scale(0.1 -0.1)\">\r\n      <use xlink:href=\"#DejaVuSans-114\"/>\r\n      <use x=\"38.863281\" xlink:href=\"#DejaVuSans-101\"/>\r\n      <use x=\"100.386719\" xlink:href=\"#DejaVuSans-97\"/>\r\n      <use x=\"161.666016\" xlink:href=\"#DejaVuSans-108\"/>\r\n      <use x=\"189.449219\" xlink:href=\"#DejaVuSans-32\"/>\r\n      <use x=\"221.236328\" xlink:href=\"#DejaVuSans-116\"/>\r\n      <use x=\"260.445312\" xlink:href=\"#DejaVuSans-97\"/>\r\n      <use x=\"321.724609\" xlink:href=\"#DejaVuSans-114\"/>\r\n      <use x=\"361.087891\" xlink:href=\"#DejaVuSans-103\"/>\r\n      <use x=\"424.564453\" xlink:href=\"#DejaVuSans-101\"/>\r\n      <use x=\"486.087891\" xlink:href=\"#DejaVuSans-116\"/>\r\n     </g>\r\n    </g>\r\n   </g>\r\n  </g>\r\n </g>\r\n <defs>\r\n  <clipPath id=\"p4861b9f6bd\">\r\n   <rect height=\"217.44\" width=\"334.8\" x=\"30.103125\" y=\"7.2\"/>\r\n  </clipPath>\r\n </defs>\r\n</svg>\r\n",
      "image/png": "[encoded data removed]"
     },
     "metadata": {
      "needs_background": "light"
     }
    }
   ],
   "source": [
    "#plot shows difference between distribution of real target variable\n",
    "#and predicted target variable (based on test set)\n",
    "sns.distplot(y_pred, label = 'pred')\n",
    "sns.distplot(y_test, label = 'real target')\n",
    "plt.legend()"
   ]
  },
  {
   "cell_type": "code",
   "execution_count": 29,
   "metadata": {},
   "outputs": [
    {
     "output_type": "execute_result",
     "data": {
      "text/plain": [
       "0.7281492411053084"
      ]
     },
     "metadata": {},
     "execution_count": 29
    }
   ],
   "source": [
    "#calculate root mean squared error\n",
    "#based difference between distribution of real target variable\n",
    "#and predicted target variable \n",
    "def rmse(y, y_pred):\n",
    "    error = y_pred - y\n",
    "    mse = (error ** 2).mean()\n",
    "    return np.sqrt(mse)\n",
    "rmse(y_test, y_pred)\n"
   ]
  },
  {
   "cell_type": "code",
   "execution_count": 30,
   "metadata": {},
   "outputs": [],
   "source": [
    "#use prepare_X function to add 'age' feature to training and testing set\n",
    "def prepare_X(df):\n",
    "    df = df.copy()\n",
    "    features = base.copy()\n",
    "    df['age'] = 2017 - df.year\n",
    "    features.append('age')\n",
    "    df_num = df[features]\n",
    "    return df_num"
   ]
  },
  {
   "cell_type": "code",
   "execution_count": 31,
   "metadata": {},
   "outputs": [
    {
     "output_type": "execute_result",
     "data": {
      "text/plain": [
       "LinearRegression()"
      ]
     },
     "metadata": {},
     "execution_count": 31
    }
   ],
   "source": [
    "#can the added feature 'age' improve the model?\n",
    "\n",
    "X_train = prepare_X(df_train)\n",
    "#train the model\n",
    "regressor.fit(X_train, y_train)"
   ]
  },
  {
   "cell_type": "code",
   "execution_count": 32,
   "metadata": {},
   "outputs": [
    {
     "output_type": "stream",
     "name": "stdout",
     "text": [
      "validation: 0.49436076818495245\n"
     ]
    }
   ],
   "source": [
    "#apply model to test set\n",
    "X_test = prepare_X(df_test)\n",
    "y_pred = regressor.predict(X_test)\n",
    "\n",
    "#comute RMSE on test set\n",
    "print('validation:', rmse(y_test, y_pred))"
   ]
  },
  {
   "cell_type": "code",
   "execution_count": 33,
   "metadata": {},
   "outputs": [],
   "source": [
    "#use prepare_X function to add 'age' feature and categ features to training and testing set\n",
    "def prepare_X(df):\n",
    "    df = df.copy()\n",
    "    features = base.copy()\n",
    "    df['age'] = 2017 - df.year\n",
    "    features.append('age')\n",
    "    features.append('number_of_doors')\n",
    "    df_num = df[features]\n",
    "    return df_num"
   ]
  },
  {
   "cell_type": "code",
   "execution_count": 34,
   "metadata": {},
   "outputs": [
    {
     "output_type": "stream",
     "name": "stdout",
     "text": [
      "testing: 0.4943636627761644\n"
     ]
    }
   ],
   "source": [
    "X_train = prepare_X(df_train)\n",
    "#train the model\n",
    "regressor.fit(X_train, y_train)\n",
    "\n",
    "#apply model to test set\n",
    "X_test = prepare_X(df_test)\n",
    "y_pred = regressor.predict(X_test)\n",
    "\n",
    "#compute RMSE on test set\n",
    "print('testing:', rmse(y_test, y_pred))"
   ]
  },
  {
   "cell_type": "code",
   "execution_count": 35,
   "metadata": {},
   "outputs": [],
   "source": [
    "#use prepare_X function to add 'age' feature and more categ features to training and testing set\n",
    "def prepare_X(df):\n",
    "    df = df.copy()\n",
    "    features = base.copy()\n",
    "    df['age'] = 2017 - df.year\n",
    "    features.append('age')\n",
    "    features.append('number_of_doors')\n",
    "    features.append('make')\n",
    "    features.append('model')\n",
    "        \n",
    "    df_num_cat = pd.get_dummies(df[features])\n",
    "    return df_num_cat"
   ]
  },
  {
   "cell_type": "code",
   "execution_count": 36,
   "metadata": {},
   "outputs": [],
   "source": [
    "#get dataset matrices\n",
    "X_train = prepare_X(df_train)\n",
    "X_test = prepare_X(df_test)"
   ]
  },
  {
   "cell_type": "code",
   "execution_count": 37,
   "metadata": {},
   "outputs": [
    {
     "output_type": "execute_result",
     "data": {
      "text/plain": [
       "222"
      ]
     },
     "metadata": {},
     "execution_count": 37
    }
   ],
   "source": [
    "#get difference between column length of two matrices\n",
    "list_train = list(X_train)\n",
    "len(list_train)\n",
    "list_test = list(X_test)\n",
    "len(list_test)\n",
    "len_diff_list = len(list_train) - len(list_test)\n",
    "len_diff_list"
   ]
  },
  {
   "cell_type": "code",
   "execution_count": 38,
   "metadata": {},
   "outputs": [],
   "source": [
    "#add missing features by adding columns, where the values are 0\n",
    "def add_columns(df):\n",
    "    X_test\n",
    "    for n in range(len_diff_list):\n",
    "        X_test[n] = 0\n",
    "    X = X_test.values\n",
    "    return X\n",
    "    "
   ]
  },
  {
   "cell_type": "code",
   "execution_count": 39,
   "metadata": {},
   "outputs": [
    {
     "output_type": "execute_result",
     "data": {
      "text/plain": [
       "array([[400.,   6.,  39., ...,   0.,   0.,   0.],\n",
       "       [420.,   8.,  21., ...,   0.,   0.,   0.],\n",
       "       [311.,   6.,  29., ...,   0.,   0.,   0.],\n",
       "       ...,\n",
       "       [274.,   4.,  31., ...,   0.,   0.,   0.],\n",
       "       [700.,  12.,  16., ...,   0.,   0.,   0.],\n",
       "       [ 99.,   4.,  46., ...,   0.,   0.,   0.]])"
      ]
     },
     "metadata": {},
     "execution_count": 39
    }
   ],
   "source": [
    "#test if there is an output of the add_columns function\n",
    "add_columns(X_test)"
   ]
  },
  {
   "cell_type": "code",
   "execution_count": 40,
   "metadata": {},
   "outputs": [
    {
     "output_type": "execute_result",
     "data": {
      "text/plain": [
       "LinearRegression()"
      ]
     },
     "metadata": {},
     "execution_count": 40
    }
   ],
   "source": [
    "#train the model\n",
    "regressor.fit(X_train, y_train)\n",
    "\n"
   ]
  },
  {
   "cell_type": "code",
   "execution_count": 41,
   "metadata": {},
   "outputs": [],
   "source": [
    "#apply model to test set\n",
    "X_test = prepare_X(df_test)\n",
    "X_test_complete = add_columns(X_test)\n"
   ]
  },
  {
   "cell_type": "code",
   "execution_count": 42,
   "metadata": {},
   "outputs": [
    {
     "output_type": "stream",
     "name": "stdout",
     "text": [
      "testing: 7360108.353783034\n"
     ]
    }
   ],
   "source": [
    "y_pred = regressor.predict(X_test_complete)\n",
    "\n",
    "#compute RMSE on test set\n",
    "print('testing:', rmse(y_test, y_pred))"
   ]
  },
  {
   "cell_type": "code",
   "execution_count": 43,
   "metadata": {},
   "outputs": [
    {
     "output_type": "execute_result",
     "data": {
      "text/plain": [
       "-46322340572101.39"
      ]
     },
     "metadata": {},
     "execution_count": 43
    }
   ],
   "source": [
    "#Evaluating Model Performance with R Squared\n",
    "from sklearn.metrics import r2_score\n",
    "r2_score(y_test, y_pred)"
   ]
  },
  {
   "cell_type": "code",
   "execution_count": 45,
   "metadata": {},
   "outputs": [
    {
     "output_type": "stream",
     "name": "stdout",
     "text": [
      "testing: 0.6188549693464026\n"
     ]
    }
   ],
   "source": [
    "#the performance is quiet bad, we can try to apply\n",
    "#regularization, that helps us to control the model\n",
    "#and avoid that the weights grow too much\n",
    "from sklearn.linear_model import Ridge\n",
    "X_train = prepare_X(df_train)\n",
    "clf = Ridge(alpha = 1.0)\n",
    "clf.fit(X_train, y_train)\n",
    "\n",
    "#apply model to test set\n",
    "X_test = prepare_X(df_test)\n",
    "X_test_complete = add_columns(X_test)\n",
    "y_pred = clf.predict(X_test_complete)\n",
    "\n",
    "#compute RMSE on validation dataset\n",
    "print('testing:', rmse(y_test, y_pred))"
   ]
  },
  {
   "cell_type": "code",
   "execution_count": 46,
   "metadata": {},
   "outputs": [
    {
     "output_type": "execute_result",
     "data": {
      "text/plain": [
       "0.672508641617114"
      ]
     },
     "metadata": {},
     "execution_count": 46
    }
   ],
   "source": [
    "#Evaluating Model Performance with R Squared\n",
    "from sklearn.metrics import r2_score\n",
    "r2_score(y_test, y_pred)"
   ]
  },
  {
   "cell_type": "code",
   "execution_count": null,
   "metadata": {},
   "outputs": [],
   "source": []
  }
 ],
 "metadata": {
  "kernelspec": {
   "display_name": "Python 3",
   "language": "python",
   "name": "python3"
  },
  "language_info": {
   "codemirror_mode": {
    "name": "ipython",
    "version": 3
   },
   "file_extension": ".py",
   "mimetype": "text/x-python",
   "name": "python",
   "nbconvert_exporter": "python",
   "pygments_lexer": "ipython3",
   "version": "3.8.3-final"
  }
 },
 "nbformat": 4,
 "nbformat_minor": 4
}